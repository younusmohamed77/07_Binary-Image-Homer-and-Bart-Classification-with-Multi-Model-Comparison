{
 "cells": [
  {
   "cell_type": "code",
   "execution_count": 86,
   "metadata": {
    "id": "7znwBf0O6tpE"
   },
   "outputs": [],
   "source": [
    "# import cv2\n",
    "import matplotlib.pyplot as plt\n",
    "import numpy as np\n",
    "import os\n",
    "import seaborn as sns\n",
    "import tensorflow as tf\n",
    "# import zipfile\n",
    "\n",
    "# from google.colab.patches import cv2_imshow\n",
    "from keras.callbacks import EarlyStopping\n",
    "from keras.callbacks import History\n",
    "from sklearn.metrics import classification_report, confusion_matrix, accuracy_score, log_loss\n",
    "from sklearn.linear_model import LogisticRegression\n",
    "from sklearn.metrics import accuracy_score, classification_report, confusion_matrix\n",
    "from sklearn.model_selection import train_test_split\n",
    "from sklearn.preprocessing import LabelEncoder, StandardScaler\n",
    "from sklearn.svm import SVC\n",
    "from tensorflow.keras.applications import DenseNet121, EfficientNetB0, InceptionV3, MobileNet, ResNet50, VGG16, VGG19\n",
    "from tensorflow.keras.models import load_model, Model, Sequential\n",
    "from tensorflow.keras import layers\n",
    "from tensorflow.keras.layers import Conv2D, MaxPooling2D, Flatten, Dense, Dropout\n",
    "# from tensorflow.keras.mixed_precision import experimental as mixed_precision\n",
    "from tensorflow.keras.optimizers import SGD, Adam\n",
    "from tensorflow.keras.preprocessing.image import ImageDataGenerator\n",
    "#from tensorflow.keras.utils import image_dataset_from_directory"
   ]
  },
  {
   "cell_type": "code",
   "execution_count": 2,
   "metadata": {},
   "outputs": [
    {
     "name": "stdout",
     "output_type": "stream",
     "text": [
      "GPU is available\n"
     ]
    }
   ],
   "source": [
    "import tensorflow as tf\n",
    "\n",
    "# Check if GPU is available\n",
    "if tf.config.list_physical_devices('GPU'):\n",
    "    print(\"GPU is available\")\n",
    "else:\n",
    "    print(\"GPU is not available\")"
   ]
  },
  {
   "cell_type": "code",
   "execution_count": 3,
   "metadata": {
    "colab": {
     "base_uri": "https://localhost:8080/",
     "height": 139
    },
    "id": "dVfbaWDe8htY",
    "outputId": "998eef1f-4222-47d1-8f7f-51554c345742"
   },
   "outputs": [],
   "source": [
    "# path='/content/homer_bart_2.zip'\n",
    "\n",
    "# zip_obect=zipfile.ZipFile(file=path,mode='r')\n",
    "# zip_obect.extractall('./')\n",
    "# zip_obect.close"
   ]
  },
  {
   "cell_type": "markdown",
   "metadata": {},
   "source": [
    "### Evaluation of different models"
   ]
  },
  {
   "cell_type": "code",
   "execution_count": 4,
   "metadata": {},
   "outputs": [],
   "source": [
    "models = []\n",
    "model_names = []\n",
    "histories = []"
   ]
  },
  {
   "cell_type": "markdown",
   "metadata": {
    "id": "rHYWcwOTfIMP"
   },
   "source": [
    "#### Preprocessing on train and test datasets"
   ]
  },
  {
   "cell_type": "code",
   "execution_count": 48,
   "metadata": {},
   "outputs": [
    {
     "name": "stdout",
     "output_type": "stream",
     "text": [
      "Found 216 images belonging to 2 classes.\n",
      "Found 53 images belonging to 2 classes.\n",
      "Found 216 images belonging to 2 classes.\n",
      "Found 53 images belonging to 2 classes.\n",
      "Found 216 images belonging to 2 classes.\n",
      "Found 53 images belonging to 2 classes.\n",
      "Found 216 images belonging to 2 classes.\n",
      "Found 53 images belonging to 2 classes.\n",
      "Found 0 images belonging to 0 classes.\n",
      "Found 0 images belonging to 0 classes.\n",
      "(64, 64, 3)\n",
      "{'bart': 0, 'homer': 1}\n",
      "{'bart': 0, 'homer': 1}\n",
      "{}\n",
      "(224, 224, 3)\n",
      "{'bart': 0, 'homer': 1}\n",
      "{'bart': 0, 'homer': 1}\n",
      "{}\n"
     ]
    }
   ],
   "source": [
    "# Define the path to your dataset\n",
    "dataset_path = 'homer_bart_1'\n",
    "\n",
    "# Create an ImageDataGenerator for training with data augmentation and validation split\n",
    "datagen = ImageDataGenerator(rescale = 1./255, rotation_range = 20, width_shift_range = 0.2, height_shift_range = 0.2, \n",
    "                                   shear_range = 0.2, zoom_range = 0.2, horizontal_flip = True, validation_split = 0.2)\n",
    "\n",
    "# Load training data with augmentation\n",
    "train_generator = datagen.flow_from_directory(dataset_path, target_size = (64, 64), batch_size = 32, class_mode = 'binary', \n",
    "                                              subset = 'training', seed = 123)\n",
    "\n",
    "# Load validation data\n",
    "validation_generator = datagen.flow_from_directory(dataset_path, target_size = (64, 64), batch_size = 32, class_mode = 'binary', \n",
    "                                                   subset = 'validation', seed = 123)\n",
    "\n",
    "# Load training data with augmentation\n",
    "train_generator_224 = datagen.flow_from_directory(dataset_path, target_size = (224, 224), batch_size = 32, class_mode = 'binary', \n",
    "                                              subset = 'training', seed = 123)\n",
    "\n",
    "# Load validation data\n",
    "validation_generator_224 = datagen.flow_from_directory(dataset_path, target_size = (224, 224), batch_size = 32, class_mode = 'binary', \n",
    "                                                   subset = 'validation', seed = 123)\n",
    "\n",
    "# Load training data with augmentation and reduced batch size\n",
    "train_generator_224_8 = datagen.flow_from_directory(dataset_path, target_size = (224, 224), batch_size = 2, class_mode = 'binary', \n",
    "                                              subset = 'training', seed = 123)\n",
    "\n",
    "# Load validation data\n",
    "validation_generator_224_8 = datagen.flow_from_directory(dataset_path, target_size = (224, 224), batch_size = 2, class_mode = 'binary', \n",
    "                                                   subset = 'validation', seed = 123)\n",
    "\n",
    "# Load training data with augmentation and reduced batch size\n",
    "train_generator_299 = datagen.flow_from_directory(dataset_path, target_size = (299, 299), batch_size = 32, class_mode = 'binary', \n",
    "                                              subset = 'training', seed = 123)\n",
    "\n",
    "# Load validation data\n",
    "validation_generator_299 = datagen.flow_from_directory(dataset_path, target_size = (299, 299), batch_size = 32, class_mode = 'binary', \n",
    "                                                   subset = 'validation', seed = 123)\n",
    "\n",
    "# Create a separate ImageDataGenerator for test data (only rescaling)\n",
    "test_datagen = ImageDataGenerator(rescale = 1./255)\n",
    "\n",
    "# Define the path to your test dataset\n",
    "test_dataset_path = 'test_dataset'\n",
    "\n",
    "# Load test data\n",
    "test_generator = test_datagen.flow_from_directory(test_dataset_path, target_size = (64, 64), batch_size = 1, class_mode = 'binary')\n",
    "test_generator_244 = test_datagen.flow_from_directory(test_dataset_path, target_size = (224, 224), batch_size = 1, class_mode = 'binary')\n",
    "\n",
    "# Print class indices\n",
    "print(\"(64, 64, 3)\")\n",
    "print(train_generator.class_indices)\n",
    "print(validation_generator.class_indices)\n",
    "print(test_generator.class_indices)\n",
    "\n",
    "print(\"(224, 224, 3)\")\n",
    "print(train_generator_224.class_indices)\n",
    "print(validation_generator_224.class_indices)\n",
    "print(test_generator_244.class_indices)"
   ]
  },
  {
   "cell_type": "markdown",
   "metadata": {
    "id": "nSqnbI1VjU5J"
   },
   "source": [
    "## Model Building"
   ]
  },
  {
   "cell_type": "markdown",
   "metadata": {},
   "source": [
    "### Conv2D Model (Checking)"
   ]
  },
  {
   "cell_type": "code",
   "execution_count": 6,
   "metadata": {
    "id": "EccXSMwHi4RI"
   },
   "outputs": [
    {
     "name": "stdout",
     "output_type": "stream",
     "text": [
      "Model: \"sequential\"\n",
      "_________________________________________________________________\n",
      " Layer (type)                Output Shape              Param #   \n",
      "=================================================================\n",
      " conv2d (Conv2D)             (None, 62, 62, 32)        896       \n",
      "                                                                 \n",
      " max_pooling2d (MaxPooling2D  (None, 31, 31, 32)       0         \n",
      " )                                                               \n",
      "                                                                 \n",
      " conv2d_1 (Conv2D)           (None, 29, 29, 64)        18496     \n",
      "                                                                 \n",
      " max_pooling2d_1 (MaxPooling  (None, 14, 14, 64)       0         \n",
      " 2D)                                                             \n",
      "                                                                 \n",
      " conv2d_2 (Conv2D)           (None, 12, 12, 128)       73856     \n",
      "                                                                 \n",
      " max_pooling2d_2 (MaxPooling  (None, 6, 6, 128)        0         \n",
      " 2D)                                                             \n",
      "                                                                 \n",
      " flatten (Flatten)           (None, 4608)              0         \n",
      "                                                                 \n",
      " dense (Dense)               (None, 128)               589952    \n",
      "                                                                 \n",
      " dense_1 (Dense)             (None, 1)                 129       \n",
      "                                                                 \n",
      "=================================================================\n",
      "Total params: 683,329\n",
      "Trainable params: 683,329\n",
      "Non-trainable params: 0\n",
      "_________________________________________________________________\n"
     ]
    }
   ],
   "source": [
    "# Build the model\n",
    "model_check = Sequential([\n",
    "    layers.InputLayer(input_shape = (64, 64, 3)),\n",
    "    layers.Conv2D(32, (3, 3), activation = 'relu'),\n",
    "    layers.MaxPooling2D((2, 2)),\n",
    "    layers.Conv2D(64, (3, 3), activation = 'relu'),\n",
    "    layers.MaxPooling2D((2, 2)),\n",
    "    layers.Conv2D(128, (3, 3), activation = 'relu'),\n",
    "    layers.MaxPooling2D((2, 2)),\n",
    "    layers.Flatten(),\n",
    "    layers.Dense(128, activation = 'relu'),\n",
    "    layers.Dense(1, activation = 'sigmoid')  # Output layer for binary classification\n",
    "])\n",
    "\n",
    "model_check.summary()"
   ]
  },
  {
   "cell_type": "code",
   "execution_count": 7,
   "metadata": {
    "colab": {
     "base_uri": "https://localhost:8080/"
    },
    "id": "hG-9aj9RknrC",
    "outputId": "f638a7c7-3f2c-4e78-81d0-4fea757c475b"
   },
   "outputs": [
    {
     "name": "stdout",
     "output_type": "stream",
     "text": [
      "Epoch 1/100\n",
      "7/7 [==============================] - 3s 77ms/step - loss: 0.7493 - accuracy: 0.4444 - val_loss: 0.6869 - val_accuracy: 0.6038\n",
      "Epoch 2/100\n",
      "7/7 [==============================] - 0s 39ms/step - loss: 0.6871 - accuracy: 0.5972 - val_loss: 0.6675 - val_accuracy: 0.6038\n",
      "Epoch 3/100\n",
      "7/7 [==============================] - 0s 40ms/step - loss: 0.6728 - accuracy: 0.5926 - val_loss: 0.6562 - val_accuracy: 0.6038\n",
      "Epoch 4/100\n",
      "7/7 [==============================] - 0s 38ms/step - loss: 0.6571 - accuracy: 0.5972 - val_loss: 0.6324 - val_accuracy: 0.6981\n",
      "Epoch 5/100\n",
      "7/7 [==============================] - 0s 39ms/step - loss: 0.6316 - accuracy: 0.6528 - val_loss: 0.5955 - val_accuracy: 0.6792\n",
      "Epoch 6/100\n",
      "7/7 [==============================] - 0s 38ms/step - loss: 0.6259 - accuracy: 0.6528 - val_loss: 0.5920 - val_accuracy: 0.6792\n",
      "Epoch 7/100\n",
      "7/7 [==============================] - 0s 37ms/step - loss: 0.5607 - accuracy: 0.7083 - val_loss: 0.5760 - val_accuracy: 0.7170\n",
      "Epoch 8/100\n",
      "7/7 [==============================] - 0s 40ms/step - loss: 0.5716 - accuracy: 0.7130 - val_loss: 0.5482 - val_accuracy: 0.7170\n",
      "Epoch 9/100\n",
      "7/7 [==============================] - 0s 39ms/step - loss: 0.5397 - accuracy: 0.7176 - val_loss: 0.5198 - val_accuracy: 0.7547\n",
      "Epoch 10/100\n",
      "7/7 [==============================] - 0s 38ms/step - loss: 0.5046 - accuracy: 0.7407 - val_loss: 0.4720 - val_accuracy: 0.8113\n",
      "Epoch 11/100\n",
      "7/7 [==============================] - 0s 37ms/step - loss: 0.4146 - accuracy: 0.8056 - val_loss: 0.4892 - val_accuracy: 0.7925\n",
      "Epoch 12/100\n",
      "7/7 [==============================] - 0s 38ms/step - loss: 0.4187 - accuracy: 0.8009 - val_loss: 0.5350 - val_accuracy: 0.7547\n",
      "Epoch 13/100\n",
      "7/7 [==============================] - 0s 38ms/step - loss: 0.4727 - accuracy: 0.7778 - val_loss: 0.4584 - val_accuracy: 0.7925\n",
      "Epoch 14/100\n",
      "7/7 [==============================] - 0s 38ms/step - loss: 0.5140 - accuracy: 0.7269 - val_loss: 0.4993 - val_accuracy: 0.7170\n",
      "Epoch 15/100\n",
      "7/7 [==============================] - 0s 36ms/step - loss: 0.4726 - accuracy: 0.7407 - val_loss: 0.5091 - val_accuracy: 0.6981\n",
      "Epoch 16/100\n",
      "7/7 [==============================] - 0s 40ms/step - loss: 0.4236 - accuracy: 0.8194 - val_loss: 0.5024 - val_accuracy: 0.7736\n",
      "Epoch 17/100\n",
      "7/7 [==============================] - 0s 38ms/step - loss: 0.4212 - accuracy: 0.7824 - val_loss: 0.5522 - val_accuracy: 0.7925\n",
      "Epoch 18/100\n",
      "7/7 [==============================] - 0s 41ms/step - loss: 0.3811 - accuracy: 0.8102 - val_loss: 0.5604 - val_accuracy: 0.7358\n",
      "Epoch 19/100\n",
      "7/7 [==============================] - 0s 42ms/step - loss: 0.3945 - accuracy: 0.7917 - val_loss: 0.4902 - val_accuracy: 0.8302\n",
      "Epoch 20/100\n",
      "7/7 [==============================] - 0s 39ms/step - loss: 0.3966 - accuracy: 0.7778 - val_loss: 0.4215 - val_accuracy: 0.8113\n",
      "Epoch 21/100\n",
      "7/7 [==============================] - 0s 39ms/step - loss: 0.3386 - accuracy: 0.8472 - val_loss: 0.4938 - val_accuracy: 0.7736\n",
      "Epoch 22/100\n",
      "7/7 [==============================] - 0s 40ms/step - loss: 0.2996 - accuracy: 0.8519 - val_loss: 0.4709 - val_accuracy: 0.8302\n",
      "Epoch 23/100\n",
      "7/7 [==============================] - 0s 38ms/step - loss: 0.3508 - accuracy: 0.8565 - val_loss: 0.5270 - val_accuracy: 0.7925\n",
      "Epoch 24/100\n",
      "7/7 [==============================] - 0s 38ms/step - loss: 0.3758 - accuracy: 0.8519 - val_loss: 0.4420 - val_accuracy: 0.7925\n",
      "Epoch 25/100\n",
      "7/7 [==============================] - 0s 41ms/step - loss: 0.3291 - accuracy: 0.8472 - val_loss: 0.5374 - val_accuracy: 0.7736\n",
      "Epoch 26/100\n",
      "7/7 [==============================] - 0s 37ms/step - loss: 0.3415 - accuracy: 0.8426 - val_loss: 0.4289 - val_accuracy: 0.7736\n",
      "Epoch 27/100\n",
      "7/7 [==============================] - 0s 40ms/step - loss: 0.3395 - accuracy: 0.8472 - val_loss: 0.4838 - val_accuracy: 0.7736\n",
      "Epoch 28/100\n",
      "7/7 [==============================] - 0s 38ms/step - loss: 0.3075 - accuracy: 0.8565 - val_loss: 0.4382 - val_accuracy: 0.7925\n",
      "Epoch 29/100\n",
      "7/7 [==============================] - 0s 38ms/step - loss: 0.3415 - accuracy: 0.8056 - val_loss: 0.4425 - val_accuracy: 0.8113\n",
      "Epoch 30/100\n",
      "7/7 [==============================] - 0s 41ms/step - loss: 0.3055 - accuracy: 0.8750 - val_loss: 0.5370 - val_accuracy: 0.8113\n"
     ]
    }
   ],
   "source": [
    "# Compile the model\n",
    "model_check.compile(optimizer = 'adam', loss = 'binary_crossentropy', metrics = ['accuracy'])\n",
    "\n",
    "# Train the model\n",
    "early_stopping = EarlyStopping(monitor = 'val_loss', patience = 10, restore_best_weights = True)\n",
    "history_check = model_check.fit(train_generator, validation_data = validation_generator, epochs=100, callbacks = [early_stopping])"
   ]
  },
  {
   "cell_type": "code",
   "execution_count": 8,
   "metadata": {},
   "outputs": [],
   "source": [
    "models.append(model_check)\n",
    "model_names.append(\"Conv2D Check\")\n",
    "histories.append(history_check)"
   ]
  },
  {
   "cell_type": "markdown",
   "metadata": {},
   "source": [
    "### Logistic Regression"
   ]
  },
  {
   "cell_type": "code",
   "execution_count": 9,
   "metadata": {},
   "outputs": [],
   "source": [
    "# Convert data from generators to numpy arrays\n",
    "\n",
    "def generator_to_numpy(generator):\n",
    "    images, labels = [], []\n",
    "    \n",
    "    for _ in range(len(generator)):\n",
    "        img_batch, label_batch = next(generator)\n",
    "        images.extend(img_batch)\n",
    "        labels.extend(label_batch)\n",
    "    \n",
    "    return np.array(images), np.array(labels)"
   ]
  },
  {
   "cell_type": "code",
   "execution_count": 10,
   "metadata": {},
   "outputs": [],
   "source": [
    "# Get training and validation data as numpy arrays\n",
    "X_train, y_train = generator_to_numpy(train_generator)\n",
    "X_val, y_val = generator_to_numpy(validation_generator)\n",
    "\n",
    "# Flatten images for logistic regression\n",
    "X_train_flat = X_train.reshape(X_train.shape[0], -1)\n",
    "X_val_flat = X_val.reshape(X_val.shape[0], -1)"
   ]
  },
  {
   "cell_type": "code",
   "execution_count": 11,
   "metadata": {},
   "outputs": [],
   "source": [
    "# Train a Logistic Regression model\n",
    "\n",
    "logistic_model = LogisticRegression(max_iter=1000)\n",
    "history_logit = logistic_model.fit(X_train_flat, y_train)"
   ]
  },
  {
   "cell_type": "code",
   "execution_count": 12,
   "metadata": {},
   "outputs": [],
   "source": [
    "models.append(logistic_model)\n",
    "model_names.append(\"Simple Logistic Regression\")\n",
    "histories.append(history_logit)"
   ]
  },
  {
   "cell_type": "markdown",
   "metadata": {},
   "source": [
    "### Logistic Regression - Scaled"
   ]
  },
  {
   "cell_type": "code",
   "execution_count": 13,
   "metadata": {},
   "outputs": [],
   "source": [
    "scaler = StandardScaler()\n",
    "X_train_scaled = scaler.fit_transform(X_train_flat)\n",
    "X_val_scaled = scaler.transform(X_val_flat)"
   ]
  },
  {
   "cell_type": "code",
   "execution_count": 14,
   "metadata": {},
   "outputs": [],
   "source": [
    "# Logistic Regression\n",
    "\n",
    "logistic_scaled = LogisticRegression(max_iter=2000, solver='lbfgs')\n",
    "history_logit_scaled = logistic_scaled.fit(X_train_scaled, y_train)"
   ]
  },
  {
   "cell_type": "code",
   "execution_count": 15,
   "metadata": {},
   "outputs": [],
   "source": [
    "models.append(logistic_scaled)\n",
    "model_names.append(\"Scaled Logistic Regression\")\n",
    "histories.append(history_logit_scaled)"
   ]
  },
  {
   "cell_type": "markdown",
   "metadata": {},
   "source": [
    "### Logistic Regression - SGD"
   ]
  },
  {
   "cell_type": "code",
   "execution_count": 16,
   "metadata": {},
   "outputs": [
    {
     "name": "stdout",
     "output_type": "stream",
     "text": [
      "Epoch 1/100\n",
      "7/7 [==============================] - 0s 19ms/step - loss: 0.6931 - accuracy: 0.5185 - val_loss: 0.6927 - val_accuracy: 0.6038\n",
      "Epoch 2/100\n",
      "7/7 [==============================] - 0s 9ms/step - loss: 0.6924 - accuracy: 0.5926 - val_loss: 0.6920 - val_accuracy: 0.6038\n",
      "Epoch 3/100\n",
      "7/7 [==============================] - 0s 8ms/step - loss: 0.6918 - accuracy: 0.5926 - val_loss: 0.6913 - val_accuracy: 0.6038\n",
      "Epoch 4/100\n",
      "7/7 [==============================] - 0s 6ms/step - loss: 0.6912 - accuracy: 0.5926 - val_loss: 0.6906 - val_accuracy: 0.6038\n",
      "Epoch 5/100\n",
      "7/7 [==============================] - 0s 8ms/step - loss: 0.6906 - accuracy: 0.5926 - val_loss: 0.6900 - val_accuracy: 0.6038\n",
      "Epoch 6/100\n",
      "7/7 [==============================] - 0s 8ms/step - loss: 0.6900 - accuracy: 0.5926 - val_loss: 0.6894 - val_accuracy: 0.6038\n",
      "Epoch 7/100\n",
      "7/7 [==============================] - 0s 6ms/step - loss: 0.6895 - accuracy: 0.5926 - val_loss: 0.6888 - val_accuracy: 0.6038\n",
      "Epoch 8/100\n",
      "7/7 [==============================] - 0s 7ms/step - loss: 0.6890 - accuracy: 0.5926 - val_loss: 0.6882 - val_accuracy: 0.6038\n",
      "Epoch 9/100\n",
      "7/7 [==============================] - 0s 8ms/step - loss: 0.6886 - accuracy: 0.5926 - val_loss: 0.6877 - val_accuracy: 0.6038\n",
      "Epoch 10/100\n",
      "7/7 [==============================] - 0s 8ms/step - loss: 0.6881 - accuracy: 0.5926 - val_loss: 0.6872 - val_accuracy: 0.6038\n",
      "Epoch 11/100\n",
      "7/7 [==============================] - 0s 8ms/step - loss: 0.6876 - accuracy: 0.5926 - val_loss: 0.6866 - val_accuracy: 0.6038\n",
      "Epoch 12/100\n",
      "7/7 [==============================] - 0s 7ms/step - loss: 0.6871 - accuracy: 0.5926 - val_loss: 0.6861 - val_accuracy: 0.6038\n",
      "Epoch 13/100\n",
      "7/7 [==============================] - 0s 8ms/step - loss: 0.6867 - accuracy: 0.5926 - val_loss: 0.6856 - val_accuracy: 0.6038\n",
      "Epoch 14/100\n",
      "7/7 [==============================] - 0s 7ms/step - loss: 0.6863 - accuracy: 0.5926 - val_loss: 0.6851 - val_accuracy: 0.6038\n",
      "Epoch 15/100\n",
      "7/7 [==============================] - 0s 8ms/step - loss: 0.6859 - accuracy: 0.5926 - val_loss: 0.6847 - val_accuracy: 0.6038\n",
      "Epoch 16/100\n",
      "7/7 [==============================] - 0s 6ms/step - loss: 0.6855 - accuracy: 0.5926 - val_loss: 0.6842 - val_accuracy: 0.6038\n",
      "Epoch 17/100\n",
      "7/7 [==============================] - 0s 9ms/step - loss: 0.6851 - accuracy: 0.5926 - val_loss: 0.6838 - val_accuracy: 0.6038\n",
      "Epoch 18/100\n",
      "7/7 [==============================] - 0s 8ms/step - loss: 0.6847 - accuracy: 0.5926 - val_loss: 0.6834 - val_accuracy: 0.6038\n",
      "Epoch 19/100\n",
      "7/7 [==============================] - 0s 8ms/step - loss: 0.6844 - accuracy: 0.5926 - val_loss: 0.6830 - val_accuracy: 0.6038\n",
      "Epoch 20/100\n",
      "7/7 [==============================] - 0s 7ms/step - loss: 0.6841 - accuracy: 0.5926 - val_loss: 0.6826 - val_accuracy: 0.6038\n",
      "Epoch 21/100\n",
      "7/7 [==============================] - 0s 7ms/step - loss: 0.6837 - accuracy: 0.5926 - val_loss: 0.6823 - val_accuracy: 0.6038\n",
      "Epoch 22/100\n",
      "7/7 [==============================] - 0s 7ms/step - loss: 0.6835 - accuracy: 0.5926 - val_loss: 0.6820 - val_accuracy: 0.6038\n",
      "Epoch 23/100\n",
      "7/7 [==============================] - 0s 7ms/step - loss: 0.6832 - accuracy: 0.5926 - val_loss: 0.6817 - val_accuracy: 0.6038\n",
      "Epoch 24/100\n",
      "7/7 [==============================] - 0s 7ms/step - loss: 0.6829 - accuracy: 0.5926 - val_loss: 0.6813 - val_accuracy: 0.6038\n",
      "Epoch 25/100\n",
      "7/7 [==============================] - 0s 7ms/step - loss: 0.6826 - accuracy: 0.5926 - val_loss: 0.6810 - val_accuracy: 0.6038\n",
      "Epoch 26/100\n",
      "7/7 [==============================] - 0s 7ms/step - loss: 0.6824 - accuracy: 0.5926 - val_loss: 0.6807 - val_accuracy: 0.6038\n",
      "Epoch 27/100\n",
      "7/7 [==============================] - 0s 7ms/step - loss: 0.6822 - accuracy: 0.5926 - val_loss: 0.6804 - val_accuracy: 0.6038\n",
      "Epoch 28/100\n",
      "7/7 [==============================] - 0s 6ms/step - loss: 0.6819 - accuracy: 0.5926 - val_loss: 0.6801 - val_accuracy: 0.6038\n",
      "Epoch 29/100\n",
      "7/7 [==============================] - 0s 7ms/step - loss: 0.6816 - accuracy: 0.5926 - val_loss: 0.6799 - val_accuracy: 0.6038\n",
      "Epoch 30/100\n",
      "7/7 [==============================] - 0s 7ms/step - loss: 0.6814 - accuracy: 0.5926 - val_loss: 0.6796 - val_accuracy: 0.6038\n",
      "Epoch 31/100\n",
      "7/7 [==============================] - 0s 7ms/step - loss: 0.6812 - accuracy: 0.5926 - val_loss: 0.6794 - val_accuracy: 0.6038\n",
      "Epoch 32/100\n",
      "7/7 [==============================] - 0s 7ms/step - loss: 0.6810 - accuracy: 0.5926 - val_loss: 0.6791 - val_accuracy: 0.6038\n",
      "Epoch 33/100\n",
      "7/7 [==============================] - 0s 7ms/step - loss: 0.6808 - accuracy: 0.5926 - val_loss: 0.6789 - val_accuracy: 0.6038\n",
      "Epoch 34/100\n",
      "7/7 [==============================] - 0s 7ms/step - loss: 0.6807 - accuracy: 0.5926 - val_loss: 0.6787 - val_accuracy: 0.6038\n",
      "Epoch 35/100\n",
      "7/7 [==============================] - 0s 7ms/step - loss: 0.6805 - accuracy: 0.5926 - val_loss: 0.6785 - val_accuracy: 0.6038\n",
      "Epoch 36/100\n",
      "7/7 [==============================] - 0s 7ms/step - loss: 0.6803 - accuracy: 0.5926 - val_loss: 0.6782 - val_accuracy: 0.6038\n",
      "Epoch 37/100\n",
      "7/7 [==============================] - 0s 7ms/step - loss: 0.6802 - accuracy: 0.5926 - val_loss: 0.6780 - val_accuracy: 0.6038\n",
      "Epoch 38/100\n",
      "7/7 [==============================] - 0s 7ms/step - loss: 0.6800 - accuracy: 0.5926 - val_loss: 0.6778 - val_accuracy: 0.6038\n",
      "Epoch 39/100\n",
      "7/7 [==============================] - 0s 6ms/step - loss: 0.6798 - accuracy: 0.5926 - val_loss: 0.6776 - val_accuracy: 0.6038\n",
      "Epoch 40/100\n",
      "7/7 [==============================] - 0s 7ms/step - loss: 0.6796 - accuracy: 0.5926 - val_loss: 0.6774 - val_accuracy: 0.6038\n",
      "Epoch 41/100\n",
      "7/7 [==============================] - 0s 7ms/step - loss: 0.6795 - accuracy: 0.5926 - val_loss: 0.6773 - val_accuracy: 0.6038\n",
      "Epoch 42/100\n",
      "7/7 [==============================] - 0s 6ms/step - loss: 0.6794 - accuracy: 0.5926 - val_loss: 0.6771 - val_accuracy: 0.6038\n",
      "Epoch 43/100\n",
      "7/7 [==============================] - 0s 7ms/step - loss: 0.6792 - accuracy: 0.5926 - val_loss: 0.6769 - val_accuracy: 0.6038\n",
      "Epoch 44/100\n",
      "7/7 [==============================] - 0s 6ms/step - loss: 0.6791 - accuracy: 0.5926 - val_loss: 0.6768 - val_accuracy: 0.6038\n",
      "Epoch 45/100\n",
      "7/7 [==============================] - 0s 7ms/step - loss: 0.6789 - accuracy: 0.5926 - val_loss: 0.6766 - val_accuracy: 0.6038\n",
      "Epoch 46/100\n",
      "7/7 [==============================] - 0s 6ms/step - loss: 0.6789 - accuracy: 0.5926 - val_loss: 0.6765 - val_accuracy: 0.6038\n",
      "Epoch 47/100\n",
      "7/7 [==============================] - 0s 6ms/step - loss: 0.6787 - accuracy: 0.5926 - val_loss: 0.6763 - val_accuracy: 0.6038\n",
      "Epoch 48/100\n",
      "7/7 [==============================] - 0s 6ms/step - loss: 0.6786 - accuracy: 0.5926 - val_loss: 0.6762 - val_accuracy: 0.6038\n",
      "Epoch 49/100\n",
      "7/7 [==============================] - 0s 6ms/step - loss: 0.6785 - accuracy: 0.5926 - val_loss: 0.6760 - val_accuracy: 0.6038\n",
      "Epoch 50/100\n",
      "7/7 [==============================] - 0s 6ms/step - loss: 0.6784 - accuracy: 0.5926 - val_loss: 0.6759 - val_accuracy: 0.6038\n",
      "Epoch 51/100\n",
      "7/7 [==============================] - 0s 6ms/step - loss: 0.6783 - accuracy: 0.5926 - val_loss: 0.6757 - val_accuracy: 0.6038\n",
      "Epoch 52/100\n",
      "7/7 [==============================] - 0s 7ms/step - loss: 0.6782 - accuracy: 0.5926 - val_loss: 0.6756 - val_accuracy: 0.6038\n",
      "Epoch 53/100\n",
      "7/7 [==============================] - 0s 6ms/step - loss: 0.6781 - accuracy: 0.5926 - val_loss: 0.6755 - val_accuracy: 0.6038\n",
      "Epoch 54/100\n",
      "7/7 [==============================] - 0s 7ms/step - loss: 0.6780 - accuracy: 0.5926 - val_loss: 0.6754 - val_accuracy: 0.6038\n",
      "Epoch 55/100\n",
      "7/7 [==============================] - 0s 6ms/step - loss: 0.6780 - accuracy: 0.5926 - val_loss: 0.6753 - val_accuracy: 0.6038\n",
      "Epoch 56/100\n",
      "7/7 [==============================] - 0s 7ms/step - loss: 0.6779 - accuracy: 0.5926 - val_loss: 0.6752 - val_accuracy: 0.6038\n",
      "Epoch 57/100\n",
      "7/7 [==============================] - 0s 6ms/step - loss: 0.6778 - accuracy: 0.5926 - val_loss: 0.6751 - val_accuracy: 0.6038\n",
      "Epoch 58/100\n",
      "7/7 [==============================] - 0s 6ms/step - loss: 0.6778 - accuracy: 0.5926 - val_loss: 0.6750 - val_accuracy: 0.6038\n",
      "Epoch 59/100\n",
      "7/7 [==============================] - 0s 6ms/step - loss: 0.6776 - accuracy: 0.5926 - val_loss: 0.6749 - val_accuracy: 0.6038\n",
      "Epoch 60/100\n",
      "7/7 [==============================] - 0s 6ms/step - loss: 0.6776 - accuracy: 0.5926 - val_loss: 0.6748 - val_accuracy: 0.6038\n",
      "Epoch 61/100\n",
      "7/7 [==============================] - 0s 6ms/step - loss: 0.6775 - accuracy: 0.5926 - val_loss: 0.6747 - val_accuracy: 0.6038\n",
      "Epoch 62/100\n",
      "7/7 [==============================] - 0s 6ms/step - loss: 0.6775 - accuracy: 0.5926 - val_loss: 0.6746 - val_accuracy: 0.6038\n",
      "Epoch 63/100\n",
      "7/7 [==============================] - 0s 6ms/step - loss: 0.6774 - accuracy: 0.5926 - val_loss: 0.6745 - val_accuracy: 0.6038\n",
      "Epoch 64/100\n",
      "7/7 [==============================] - 0s 6ms/step - loss: 0.6773 - accuracy: 0.5926 - val_loss: 0.6745 - val_accuracy: 0.6038\n",
      "Epoch 65/100\n",
      "7/7 [==============================] - 0s 6ms/step - loss: 0.6773 - accuracy: 0.5926 - val_loss: 0.6744 - val_accuracy: 0.6038\n",
      "Epoch 66/100\n",
      "7/7 [==============================] - 0s 6ms/step - loss: 0.6772 - accuracy: 0.5926 - val_loss: 0.6743 - val_accuracy: 0.6038\n",
      "Epoch 67/100\n",
      "7/7 [==============================] - 0s 6ms/step - loss: 0.6771 - accuracy: 0.5926 - val_loss: 0.6742 - val_accuracy: 0.6038\n",
      "Epoch 68/100\n",
      "7/7 [==============================] - 0s 6ms/step - loss: 0.6771 - accuracy: 0.5926 - val_loss: 0.6742 - val_accuracy: 0.6038\n",
      "Epoch 69/100\n",
      "7/7 [==============================] - 0s 6ms/step - loss: 0.6770 - accuracy: 0.5926 - val_loss: 0.6741 - val_accuracy: 0.6038\n",
      "Epoch 70/100\n",
      "7/7 [==============================] - 0s 6ms/step - loss: 0.6770 - accuracy: 0.5926 - val_loss: 0.6740 - val_accuracy: 0.6038\n",
      "Epoch 71/100\n",
      "7/7 [==============================] - 0s 6ms/step - loss: 0.6770 - accuracy: 0.5926 - val_loss: 0.6740 - val_accuracy: 0.6038\n",
      "Epoch 72/100\n",
      "7/7 [==============================] - 0s 6ms/step - loss: 0.6769 - accuracy: 0.5926 - val_loss: 0.6739 - val_accuracy: 0.6038\n",
      "Epoch 73/100\n",
      "7/7 [==============================] - 0s 6ms/step - loss: 0.6769 - accuracy: 0.5926 - val_loss: 0.6739 - val_accuracy: 0.6038\n",
      "Epoch 74/100\n",
      "7/7 [==============================] - 0s 6ms/step - loss: 0.6769 - accuracy: 0.5926 - val_loss: 0.6738 - val_accuracy: 0.6038\n",
      "Epoch 75/100\n",
      "7/7 [==============================] - 0s 6ms/step - loss: 0.6768 - accuracy: 0.5926 - val_loss: 0.6737 - val_accuracy: 0.6038\n",
      "Epoch 76/100\n",
      "7/7 [==============================] - 0s 6ms/step - loss: 0.6768 - accuracy: 0.5926 - val_loss: 0.6737 - val_accuracy: 0.6038\n",
      "Epoch 77/100\n",
      "7/7 [==============================] - 0s 6ms/step - loss: 0.6768 - accuracy: 0.5926 - val_loss: 0.6736 - val_accuracy: 0.6038\n",
      "Epoch 78/100\n",
      "7/7 [==============================] - 0s 6ms/step - loss: 0.6767 - accuracy: 0.5926 - val_loss: 0.6736 - val_accuracy: 0.6038\n",
      "Epoch 79/100\n",
      "7/7 [==============================] - 0s 6ms/step - loss: 0.6767 - accuracy: 0.5926 - val_loss: 0.6735 - val_accuracy: 0.6038\n",
      "Epoch 80/100\n",
      "7/7 [==============================] - 0s 6ms/step - loss: 0.6766 - accuracy: 0.5926 - val_loss: 0.6735 - val_accuracy: 0.6038\n",
      "Epoch 81/100\n",
      "7/7 [==============================] - 0s 6ms/step - loss: 0.6766 - accuracy: 0.5926 - val_loss: 0.6734 - val_accuracy: 0.6038\n",
      "Epoch 82/100\n",
      "7/7 [==============================] - 0s 6ms/step - loss: 0.6765 - accuracy: 0.5926 - val_loss: 0.6733 - val_accuracy: 0.6038\n",
      "Epoch 83/100\n",
      "7/7 [==============================] - 0s 6ms/step - loss: 0.6765 - accuracy: 0.5926 - val_loss: 0.6733 - val_accuracy: 0.6038\n",
      "Epoch 84/100\n",
      "7/7 [==============================] - 0s 6ms/step - loss: 0.6765 - accuracy: 0.5926 - val_loss: 0.6732 - val_accuracy: 0.6038\n",
      "Epoch 85/100\n",
      "7/7 [==============================] - 0s 6ms/step - loss: 0.6764 - accuracy: 0.5926 - val_loss: 0.6732 - val_accuracy: 0.6038\n",
      "Epoch 86/100\n",
      "7/7 [==============================] - 0s 6ms/step - loss: 0.6764 - accuracy: 0.5926 - val_loss: 0.6731 - val_accuracy: 0.6038\n",
      "Epoch 87/100\n",
      "7/7 [==============================] - 0s 7ms/step - loss: 0.6764 - accuracy: 0.5926 - val_loss: 0.6731 - val_accuracy: 0.6038\n",
      "Epoch 88/100\n",
      "7/7 [==============================] - 0s 7ms/step - loss: 0.6764 - accuracy: 0.5926 - val_loss: 0.6731 - val_accuracy: 0.6038\n",
      "Epoch 89/100\n",
      "7/7 [==============================] - 0s 6ms/step - loss: 0.6763 - accuracy: 0.5926 - val_loss: 0.6730 - val_accuracy: 0.6038\n",
      "Epoch 90/100\n",
      "7/7 [==============================] - 0s 6ms/step - loss: 0.6763 - accuracy: 0.5926 - val_loss: 0.6730 - val_accuracy: 0.6038\n",
      "Epoch 91/100\n",
      "7/7 [==============================] - 0s 6ms/step - loss: 0.6763 - accuracy: 0.5926 - val_loss: 0.6730 - val_accuracy: 0.6038\n",
      "Epoch 92/100\n",
      "7/7 [==============================] - 0s 7ms/step - loss: 0.6763 - accuracy: 0.5926 - val_loss: 0.6729 - val_accuracy: 0.6038\n",
      "Epoch 93/100\n",
      "7/7 [==============================] - 0s 6ms/step - loss: 0.6763 - accuracy: 0.5926 - val_loss: 0.6729 - val_accuracy: 0.6038\n",
      "Epoch 94/100\n",
      "7/7 [==============================] - 0s 7ms/step - loss: 0.6763 - accuracy: 0.5926 - val_loss: 0.6729 - val_accuracy: 0.6038\n",
      "Epoch 95/100\n",
      "7/7 [==============================] - 0s 6ms/step - loss: 0.6762 - accuracy: 0.5926 - val_loss: 0.6729 - val_accuracy: 0.6038\n",
      "Epoch 96/100\n",
      "7/7 [==============================] - 0s 7ms/step - loss: 0.6762 - accuracy: 0.5926 - val_loss: 0.6728 - val_accuracy: 0.6038\n",
      "Epoch 97/100\n",
      "7/7 [==============================] - 0s 6ms/step - loss: 0.6762 - accuracy: 0.5926 - val_loss: 0.6728 - val_accuracy: 0.6038\n",
      "Epoch 98/100\n",
      "7/7 [==============================] - 0s 7ms/step - loss: 0.6762 - accuracy: 0.5926 - val_loss: 0.6728 - val_accuracy: 0.6038\n",
      "Epoch 99/100\n",
      "7/7 [==============================] - 0s 6ms/step - loss: 0.6762 - accuracy: 0.5926 - val_loss: 0.6728 - val_accuracy: 0.6038\n",
      "Epoch 100/100\n",
      "7/7 [==============================] - 0s 6ms/step - loss: 0.6761 - accuracy: 0.5926 - val_loss: 0.6727 - val_accuracy: 0.6038\n"
     ]
    }
   ],
   "source": [
    "x_train_sgd, x_val_sgd = X_train / 255.0, X_val / 255.0\n",
    "\n",
    "# Build model\n",
    "logistic_sgd = Sequential([\n",
    "    Flatten(input_shape = (64, 64, 3)),\n",
    "    Dense(1, activation = 'sigmoid')\n",
    "])\n",
    "\n",
    "# Compile model\n",
    "logistic_sgd.compile(optimizer = SGD(), loss = 'binary_crossentropy', metrics = ['accuracy'])\n",
    "\n",
    "# Train model\n",
    "history_logistic_sgd = logistic_sgd.fit(x_train_sgd, y_train, validation_data=(x_val_sgd, y_val), epochs=100, callbacks = [early_stopping])"
   ]
  },
  {
   "cell_type": "code",
   "execution_count": 17,
   "metadata": {},
   "outputs": [],
   "source": [
    "models.append(logistic_sgd)\n",
    "model_names.append(\"Logistic Regression - SGD\")\n",
    "histories.append(history_logistic_sgd)"
   ]
  },
  {
   "cell_type": "markdown",
   "metadata": {},
   "source": [
    "### SVM Model"
   ]
  },
  {
   "cell_type": "code",
   "execution_count": 18,
   "metadata": {},
   "outputs": [],
   "source": [
    "# Support Vector Machine\n",
    "svm_model = SVC()\n",
    "history_svm = svm_model.fit(X_train_scaled, y_train)"
   ]
  },
  {
   "cell_type": "code",
   "execution_count": 19,
   "metadata": {},
   "outputs": [],
   "source": [
    "models.append(svm_model)\n",
    "model_names.append(\"Support Vector Machine\")\n",
    "histories.append(history_svm)"
   ]
  },
  {
   "cell_type": "markdown",
   "metadata": {},
   "source": [
    "### MLP "
   ]
  },
  {
   "cell_type": "code",
   "execution_count": 20,
   "metadata": {},
   "outputs": [
    {
     "name": "stdout",
     "output_type": "stream",
     "text": [
      "Epoch 1/100\n",
      "7/7 [==============================] - 1s 59ms/step - loss: 3.0296 - accuracy: 0.4722 - val_loss: 1.7624 - val_accuracy: 0.6038\n",
      "Epoch 2/100\n",
      "7/7 [==============================] - 0s 39ms/step - loss: 1.0745 - accuracy: 0.5185 - val_loss: 0.6079 - val_accuracy: 0.7170\n",
      "Epoch 3/100\n",
      "7/7 [==============================] - 0s 43ms/step - loss: 0.8176 - accuracy: 0.5972 - val_loss: 0.7571 - val_accuracy: 0.3962\n",
      "Epoch 4/100\n",
      "7/7 [==============================] - 0s 40ms/step - loss: 0.7127 - accuracy: 0.5741 - val_loss: 0.7071 - val_accuracy: 0.5660\n",
      "Epoch 5/100\n",
      "7/7 [==============================] - 0s 39ms/step - loss: 0.7922 - accuracy: 0.5370 - val_loss: 0.5849 - val_accuracy: 0.6981\n",
      "Epoch 6/100\n",
      "7/7 [==============================] - 0s 37ms/step - loss: 0.6349 - accuracy: 0.6574 - val_loss: 0.5904 - val_accuracy: 0.7170\n",
      "Epoch 7/100\n",
      "7/7 [==============================] - 0s 40ms/step - loss: 0.6440 - accuracy: 0.6620 - val_loss: 0.7037 - val_accuracy: 0.6226\n",
      "Epoch 8/100\n",
      "7/7 [==============================] - 0s 40ms/step - loss: 0.7285 - accuracy: 0.5926 - val_loss: 0.8008 - val_accuracy: 0.5849\n",
      "Epoch 9/100\n",
      "7/7 [==============================] - 0s 39ms/step - loss: 0.6773 - accuracy: 0.6389 - val_loss: 0.6711 - val_accuracy: 0.6604\n",
      "Epoch 10/100\n",
      "7/7 [==============================] - 0s 40ms/step - loss: 0.6128 - accuracy: 0.7037 - val_loss: 0.5819 - val_accuracy: 0.6792\n",
      "Epoch 11/100\n",
      "7/7 [==============================] - 0s 41ms/step - loss: 0.5936 - accuracy: 0.6806 - val_loss: 0.6418 - val_accuracy: 0.6981\n",
      "Epoch 12/100\n",
      "7/7 [==============================] - 0s 40ms/step - loss: 0.6089 - accuracy: 0.7037 - val_loss: 0.5571 - val_accuracy: 0.7170\n",
      "Epoch 13/100\n",
      "7/7 [==============================] - 0s 37ms/step - loss: 0.5748 - accuracy: 0.7269 - val_loss: 0.5605 - val_accuracy: 0.6981\n",
      "Epoch 14/100\n",
      "7/7 [==============================] - 0s 39ms/step - loss: 0.6472 - accuracy: 0.6667 - val_loss: 0.6352 - val_accuracy: 0.6226\n",
      "Epoch 15/100\n",
      "7/7 [==============================] - 0s 43ms/step - loss: 0.5909 - accuracy: 0.7037 - val_loss: 0.5309 - val_accuracy: 0.7547\n",
      "Epoch 16/100\n",
      "7/7 [==============================] - 0s 39ms/step - loss: 0.5979 - accuracy: 0.6898 - val_loss: 0.5750 - val_accuracy: 0.6792\n",
      "Epoch 17/100\n",
      "7/7 [==============================] - 0s 38ms/step - loss: 0.5918 - accuracy: 0.6806 - val_loss: 0.5980 - val_accuracy: 0.7170\n",
      "Epoch 18/100\n",
      "7/7 [==============================] - 0s 38ms/step - loss: 0.5778 - accuracy: 0.7176 - val_loss: 0.4597 - val_accuracy: 0.8113\n",
      "Epoch 19/100\n",
      "7/7 [==============================] - 0s 37ms/step - loss: 0.6515 - accuracy: 0.6759 - val_loss: 0.6065 - val_accuracy: 0.6604\n",
      "Epoch 20/100\n",
      "7/7 [==============================] - 0s 43ms/step - loss: 0.5942 - accuracy: 0.6667 - val_loss: 0.5409 - val_accuracy: 0.7547\n",
      "Epoch 21/100\n",
      "7/7 [==============================] - 0s 42ms/step - loss: 0.5925 - accuracy: 0.7083 - val_loss: 0.5737 - val_accuracy: 0.6981\n",
      "Epoch 22/100\n",
      "7/7 [==============================] - 0s 41ms/step - loss: 0.5761 - accuracy: 0.6898 - val_loss: 0.6024 - val_accuracy: 0.7358\n",
      "Epoch 23/100\n",
      "7/7 [==============================] - 0s 39ms/step - loss: 0.7177 - accuracy: 0.6019 - val_loss: 0.6050 - val_accuracy: 0.6981\n",
      "Epoch 24/100\n",
      "7/7 [==============================] - 0s 42ms/step - loss: 0.6736 - accuracy: 0.6343 - val_loss: 0.6324 - val_accuracy: 0.6981\n",
      "Epoch 25/100\n",
      "7/7 [==============================] - 0s 38ms/step - loss: 0.6611 - accuracy: 0.6528 - val_loss: 0.6982 - val_accuracy: 0.6604\n",
      "Epoch 26/100\n",
      "7/7 [==============================] - 0s 37ms/step - loss: 0.6006 - accuracy: 0.7037 - val_loss: 0.5323 - val_accuracy: 0.7736\n",
      "Epoch 27/100\n",
      "7/7 [==============================] - 0s 40ms/step - loss: 0.5548 - accuracy: 0.7083 - val_loss: 0.5751 - val_accuracy: 0.6792\n",
      "Epoch 28/100\n",
      "7/7 [==============================] - 0s 42ms/step - loss: 0.6205 - accuracy: 0.6991 - val_loss: 0.5387 - val_accuracy: 0.6415\n"
     ]
    }
   ],
   "source": [
    "model_mlp = Sequential([\n",
    "        Flatten(input_shape = (64, 64, 3)),\n",
    "        Dense(128, activation = 'relu'),\n",
    "        Dense(64, activation = 'relu'),\n",
    "        Dense(1, activation = 'sigmoid')\n",
    "    ])\n",
    "model_mlp.compile(optimizer='adam', loss='binary_crossentropy', metrics=['accuracy'])\n",
    "history_mlp = model_mlp.fit(train_generator, validation_data = validation_generator, epochs=100, callbacks = [early_stopping])"
   ]
  },
  {
   "cell_type": "code",
   "execution_count": 21,
   "metadata": {},
   "outputs": [],
   "source": [
    "models.append(model_mlp)\n",
    "model_names.append(\"Multi Layer Perceptron\")\n",
    "histories.append(history_mlp)"
   ]
  },
  {
   "cell_type": "markdown",
   "metadata": {},
   "source": [
    "### LeNet-5"
   ]
  },
  {
   "cell_type": "code",
   "execution_count": 22,
   "metadata": {},
   "outputs": [
    {
     "name": "stdout",
     "output_type": "stream",
     "text": [
      "Epoch 1/100\n",
      "7/7 [==============================] - 1s 68ms/step - loss: 0.8107 - accuracy: 0.5417 - val_loss: 0.6792 - val_accuracy: 0.6038\n",
      "Epoch 2/100\n",
      "7/7 [==============================] - 0s 41ms/step - loss: 0.6826 - accuracy: 0.5926 - val_loss: 0.6677 - val_accuracy: 0.6038\n",
      "Epoch 3/100\n",
      "7/7 [==============================] - 0s 39ms/step - loss: 0.6732 - accuracy: 0.5926 - val_loss: 0.6611 - val_accuracy: 0.6038\n",
      "Epoch 4/100\n",
      "7/7 [==============================] - 0s 40ms/step - loss: 0.6468 - accuracy: 0.5926 - val_loss: 0.6397 - val_accuracy: 0.6038\n",
      "Epoch 5/100\n",
      "7/7 [==============================] - 0s 39ms/step - loss: 0.6294 - accuracy: 0.6019 - val_loss: 0.5752 - val_accuracy: 0.6792\n",
      "Epoch 6/100\n",
      "7/7 [==============================] - 0s 41ms/step - loss: 0.5773 - accuracy: 0.6852 - val_loss: 0.5761 - val_accuracy: 0.7547\n",
      "Epoch 7/100\n",
      "7/7 [==============================] - 0s 38ms/step - loss: 0.5948 - accuracy: 0.6944 - val_loss: 0.6087 - val_accuracy: 0.6792\n",
      "Epoch 8/100\n",
      "7/7 [==============================] - 0s 39ms/step - loss: 0.5507 - accuracy: 0.7176 - val_loss: 0.5907 - val_accuracy: 0.6792\n",
      "Epoch 9/100\n",
      "7/7 [==============================] - 0s 39ms/step - loss: 0.5596 - accuracy: 0.7176 - val_loss: 0.5441 - val_accuracy: 0.7547\n",
      "Epoch 10/100\n",
      "7/7 [==============================] - 0s 43ms/step - loss: 0.5756 - accuracy: 0.7315 - val_loss: 0.5802 - val_accuracy: 0.7358\n",
      "Epoch 11/100\n",
      "7/7 [==============================] - 0s 45ms/step - loss: 0.5624 - accuracy: 0.7176 - val_loss: 0.5253 - val_accuracy: 0.7358\n",
      "Epoch 12/100\n",
      "7/7 [==============================] - 0s 40ms/step - loss: 0.5247 - accuracy: 0.7500 - val_loss: 0.5340 - val_accuracy: 0.8113\n",
      "Epoch 13/100\n",
      "7/7 [==============================] - 0s 40ms/step - loss: 0.5107 - accuracy: 0.7407 - val_loss: 0.5293 - val_accuracy: 0.7925\n",
      "Epoch 14/100\n",
      "7/7 [==============================] - 0s 40ms/step - loss: 0.4965 - accuracy: 0.7685 - val_loss: 0.5309 - val_accuracy: 0.7547\n",
      "Epoch 15/100\n",
      "7/7 [==============================] - 0s 40ms/step - loss: 0.4566 - accuracy: 0.8056 - val_loss: 0.5027 - val_accuracy: 0.7547\n",
      "Epoch 16/100\n",
      "7/7 [==============================] - 0s 42ms/step - loss: 0.4579 - accuracy: 0.7824 - val_loss: 0.5546 - val_accuracy: 0.7547\n",
      "Epoch 17/100\n",
      "7/7 [==============================] - 0s 39ms/step - loss: 0.4985 - accuracy: 0.7963 - val_loss: 0.4915 - val_accuracy: 0.7736\n",
      "Epoch 18/100\n",
      "7/7 [==============================] - 0s 38ms/step - loss: 0.4806 - accuracy: 0.7546 - val_loss: 0.4972 - val_accuracy: 0.7170\n",
      "Epoch 19/100\n",
      "7/7 [==============================] - 0s 41ms/step - loss: 0.4865 - accuracy: 0.7639 - val_loss: 0.5027 - val_accuracy: 0.7358\n",
      "Epoch 20/100\n",
      "7/7 [==============================] - 0s 40ms/step - loss: 0.4506 - accuracy: 0.7963 - val_loss: 0.4689 - val_accuracy: 0.8113\n",
      "Epoch 21/100\n",
      "7/7 [==============================] - 0s 38ms/step - loss: 0.4661 - accuracy: 0.7778 - val_loss: 0.5150 - val_accuracy: 0.7547\n",
      "Epoch 22/100\n",
      "7/7 [==============================] - 0s 38ms/step - loss: 0.4506 - accuracy: 0.7778 - val_loss: 0.4685 - val_accuracy: 0.7925\n",
      "Epoch 23/100\n",
      "7/7 [==============================] - 0s 38ms/step - loss: 0.4497 - accuracy: 0.7824 - val_loss: 0.4317 - val_accuracy: 0.8302\n",
      "Epoch 24/100\n",
      "7/7 [==============================] - 0s 41ms/step - loss: 0.5069 - accuracy: 0.7500 - val_loss: 0.5002 - val_accuracy: 0.8113\n",
      "Epoch 25/100\n",
      "7/7 [==============================] - 0s 42ms/step - loss: 0.4787 - accuracy: 0.7870 - val_loss: 0.4922 - val_accuracy: 0.7170\n",
      "Epoch 26/100\n",
      "7/7 [==============================] - 0s 41ms/step - loss: 0.4490 - accuracy: 0.8056 - val_loss: 0.4694 - val_accuracy: 0.7925\n",
      "Epoch 27/100\n",
      "7/7 [==============================] - 0s 41ms/step - loss: 0.4411 - accuracy: 0.7870 - val_loss: 0.4555 - val_accuracy: 0.7547\n",
      "Epoch 28/100\n",
      "7/7 [==============================] - 0s 40ms/step - loss: 0.4140 - accuracy: 0.8194 - val_loss: 0.4409 - val_accuracy: 0.7736\n",
      "Epoch 29/100\n",
      "7/7 [==============================] - 0s 44ms/step - loss: 0.4160 - accuracy: 0.8102 - val_loss: 0.4113 - val_accuracy: 0.8113\n",
      "Epoch 30/100\n",
      "7/7 [==============================] - 0s 39ms/step - loss: 0.3664 - accuracy: 0.8426 - val_loss: 0.4171 - val_accuracy: 0.8113\n",
      "Epoch 31/100\n",
      "7/7 [==============================] - 0s 38ms/step - loss: 0.3617 - accuracy: 0.8380 - val_loss: 0.4423 - val_accuracy: 0.7925\n",
      "Epoch 32/100\n",
      "7/7 [==============================] - 0s 41ms/step - loss: 0.3553 - accuracy: 0.8426 - val_loss: 0.4453 - val_accuracy: 0.8113\n",
      "Epoch 33/100\n",
      "7/7 [==============================] - 0s 39ms/step - loss: 0.4180 - accuracy: 0.8148 - val_loss: 0.5042 - val_accuracy: 0.7736\n",
      "Epoch 34/100\n",
      "7/7 [==============================] - 0s 39ms/step - loss: 0.3643 - accuracy: 0.8287 - val_loss: 0.4200 - val_accuracy: 0.8302\n",
      "Epoch 35/100\n",
      "7/7 [==============================] - 0s 38ms/step - loss: 0.3376 - accuracy: 0.8519 - val_loss: 0.4281 - val_accuracy: 0.8491\n",
      "Epoch 36/100\n",
      "7/7 [==============================] - 0s 39ms/step - loss: 0.3567 - accuracy: 0.8426 - val_loss: 0.4396 - val_accuracy: 0.7547\n",
      "Epoch 37/100\n",
      "7/7 [==============================] - 0s 39ms/step - loss: 0.2961 - accuracy: 0.8426 - val_loss: 0.4712 - val_accuracy: 0.7547\n",
      "Epoch 38/100\n",
      "7/7 [==============================] - 0s 40ms/step - loss: 0.3345 - accuracy: 0.8380 - val_loss: 0.4008 - val_accuracy: 0.8491\n",
      "Epoch 39/100\n",
      "7/7 [==============================] - 0s 39ms/step - loss: 0.2963 - accuracy: 0.8704 - val_loss: 0.4505 - val_accuracy: 0.7736\n",
      "Epoch 40/100\n",
      "7/7 [==============================] - 0s 40ms/step - loss: 0.3104 - accuracy: 0.8704 - val_loss: 0.4063 - val_accuracy: 0.8113\n",
      "Epoch 41/100\n",
      "7/7 [==============================] - 0s 42ms/step - loss: 0.2991 - accuracy: 0.8426 - val_loss: 0.4166 - val_accuracy: 0.8113\n",
      "Epoch 42/100\n",
      "7/7 [==============================] - 0s 39ms/step - loss: 0.2926 - accuracy: 0.8796 - val_loss: 0.4186 - val_accuracy: 0.8113\n",
      "Epoch 43/100\n",
      "7/7 [==============================] - 0s 39ms/step - loss: 0.3155 - accuracy: 0.8426 - val_loss: 0.4630 - val_accuracy: 0.7925\n",
      "Epoch 44/100\n",
      "7/7 [==============================] - 0s 39ms/step - loss: 0.2911 - accuracy: 0.8796 - val_loss: 0.4655 - val_accuracy: 0.7547\n",
      "Epoch 45/100\n",
      "7/7 [==============================] - 0s 39ms/step - loss: 0.2909 - accuracy: 0.8657 - val_loss: 0.4319 - val_accuracy: 0.8868\n",
      "Epoch 46/100\n",
      "7/7 [==============================] - 0s 39ms/step - loss: 0.3020 - accuracy: 0.8611 - val_loss: 0.4454 - val_accuracy: 0.8491\n",
      "Epoch 47/100\n",
      "7/7 [==============================] - 0s 41ms/step - loss: 0.3296 - accuracy: 0.8704 - val_loss: 0.5050 - val_accuracy: 0.7925\n",
      "Epoch 48/100\n",
      "7/7 [==============================] - 0s 40ms/step - loss: 0.3100 - accuracy: 0.8611 - val_loss: 0.4149 - val_accuracy: 0.8302\n"
     ]
    }
   ],
   "source": [
    "lenet_model = Sequential([\n",
    "        Conv2D(6, (5, 5), activation = 'relu', padding = 'same', input_shape = (64, 64, 3)),\n",
    "        MaxPooling2D(pool_size = (2, 2)),\n",
    "        Conv2D(16, (5, 5), activation = 'relu'),\n",
    "        MaxPooling2D(pool_size = (2, 2)),\n",
    "        Flatten(),\n",
    "        Dense(120, activation = 'relu'),\n",
    "        Dense(84, activation = 'relu'),\n",
    "        Dense(1, activation = 'sigmoid')\n",
    "    ])\n",
    "\n",
    "lenet_model.compile(optimizer = 'adam', loss = 'binary_crossentropy', metrics=['accuracy'])\n",
    "lenet_history = lenet_model.fit(train_generator, validation_data = validation_generator, epochs = 100, callbacks = [early_stopping])"
   ]
  },
  {
   "cell_type": "code",
   "execution_count": 23,
   "metadata": {},
   "outputs": [],
   "source": [
    "models.append(lenet_model)\n",
    "model_names.append(\"LeNet - 5\")\n",
    "histories.append(lenet_history)"
   ]
  },
  {
   "cell_type": "markdown",
   "metadata": {},
   "source": [
    "### AlexNet"
   ]
  },
  {
   "cell_type": "code",
   "execution_count": 24,
   "metadata": {},
   "outputs": [
    {
     "name": "stdout",
     "output_type": "stream",
     "text": [
      "Epoch 1/100\n",
      "7/7 [==============================] - 6s 580ms/step - loss: 2.7009 - accuracy: 0.5417 - val_loss: 0.6824 - val_accuracy: 0.6038\n",
      "Epoch 2/100\n",
      "7/7 [==============================] - 1s 182ms/step - loss: 0.6868 - accuracy: 0.5926 - val_loss: 0.6618 - val_accuracy: 0.6038\n",
      "Epoch 3/100\n",
      "7/7 [==============================] - 1s 181ms/step - loss: 0.6733 - accuracy: 0.5926 - val_loss: 0.5761 - val_accuracy: 0.6038\n",
      "Epoch 4/100\n",
      "7/7 [==============================] - 1s 171ms/step - loss: 0.6300 - accuracy: 0.5926 - val_loss: 0.5845 - val_accuracy: 0.6038\n",
      "Epoch 5/100\n",
      "7/7 [==============================] - 1s 186ms/step - loss: 0.5360 - accuracy: 0.5926 - val_loss: 0.5040 - val_accuracy: 0.6038\n",
      "Epoch 6/100\n",
      "7/7 [==============================] - 1s 171ms/step - loss: 0.6841 - accuracy: 0.6944 - val_loss: 0.6286 - val_accuracy: 0.6038\n",
      "Epoch 7/100\n",
      "7/7 [==============================] - 1s 171ms/step - loss: 0.6705 - accuracy: 0.5139 - val_loss: 0.6706 - val_accuracy: 0.5849\n",
      "Epoch 8/100\n",
      "7/7 [==============================] - 1s 190ms/step - loss: 0.5627 - accuracy: 0.5833 - val_loss: 0.4768 - val_accuracy: 0.6038\n",
      "Epoch 9/100\n",
      "7/7 [==============================] - 1s 184ms/step - loss: 0.5157 - accuracy: 0.7176 - val_loss: 0.4615 - val_accuracy: 0.7547\n",
      "Epoch 10/100\n",
      "7/7 [==============================] - 1s 181ms/step - loss: 0.4969 - accuracy: 0.7315 - val_loss: 0.4412 - val_accuracy: 0.7736\n",
      "Epoch 11/100\n",
      "7/7 [==============================] - 1s 178ms/step - loss: 0.5005 - accuracy: 0.7407 - val_loss: 0.4894 - val_accuracy: 0.6981\n",
      "Epoch 12/100\n",
      "7/7 [==============================] - 1s 179ms/step - loss: 0.5193 - accuracy: 0.6944 - val_loss: 0.4598 - val_accuracy: 0.7170\n",
      "Epoch 13/100\n",
      "7/7 [==============================] - 1s 179ms/step - loss: 0.4484 - accuracy: 0.7454 - val_loss: 0.4743 - val_accuracy: 0.7170\n",
      "Epoch 14/100\n",
      "7/7 [==============================] - 1s 185ms/step - loss: 0.4648 - accuracy: 0.7546 - val_loss: 0.4406 - val_accuracy: 0.7170\n",
      "Epoch 15/100\n",
      "7/7 [==============================] - 1s 171ms/step - loss: 0.3981 - accuracy: 0.7963 - val_loss: 0.4911 - val_accuracy: 0.7170\n",
      "Epoch 16/100\n",
      "7/7 [==============================] - 1s 171ms/step - loss: 0.4328 - accuracy: 0.7593 - val_loss: 0.4474 - val_accuracy: 0.7358\n",
      "Epoch 17/100\n",
      "7/7 [==============================] - 1s 181ms/step - loss: 0.4777 - accuracy: 0.7870 - val_loss: 0.5035 - val_accuracy: 0.6981\n",
      "Epoch 18/100\n",
      "7/7 [==============================] - 1s 178ms/step - loss: 0.4923 - accuracy: 0.7222 - val_loss: 0.4821 - val_accuracy: 0.7170\n",
      "Epoch 19/100\n",
      "7/7 [==============================] - 1s 175ms/step - loss: 0.5011 - accuracy: 0.7269 - val_loss: 0.4928 - val_accuracy: 0.6792\n",
      "Epoch 20/100\n",
      "7/7 [==============================] - 1s 175ms/step - loss: 0.4756 - accuracy: 0.7269 - val_loss: 0.4775 - val_accuracy: 0.6981\n",
      "Epoch 21/100\n",
      "7/7 [==============================] - 1s 174ms/step - loss: 0.4189 - accuracy: 0.7870 - val_loss: 0.5006 - val_accuracy: 0.6792\n",
      "Epoch 22/100\n",
      "7/7 [==============================] - 1s 190ms/step - loss: 0.4335 - accuracy: 0.7546 - val_loss: 0.4378 - val_accuracy: 0.7547\n",
      "Epoch 23/100\n",
      "7/7 [==============================] - 1s 173ms/step - loss: 0.4797 - accuracy: 0.7361 - val_loss: 0.4833 - val_accuracy: 0.7170\n",
      "Epoch 24/100\n",
      "7/7 [==============================] - 1s 189ms/step - loss: 0.4367 - accuracy: 0.7593 - val_loss: 0.4378 - val_accuracy: 0.7547\n",
      "Epoch 25/100\n",
      "7/7 [==============================] - 1s 175ms/step - loss: 0.4485 - accuracy: 0.7917 - val_loss: 0.4540 - val_accuracy: 0.7358\n",
      "Epoch 26/100\n",
      "7/7 [==============================] - 1s 177ms/step - loss: 0.4888 - accuracy: 0.7269 - val_loss: 0.5140 - val_accuracy: 0.7170\n",
      "Epoch 27/100\n",
      "7/7 [==============================] - 1s 173ms/step - loss: 0.4934 - accuracy: 0.7361 - val_loss: 0.4727 - val_accuracy: 0.7170\n",
      "Epoch 28/100\n",
      "7/7 [==============================] - 1s 171ms/step - loss: 0.4581 - accuracy: 0.7361 - val_loss: 0.4927 - val_accuracy: 0.6981\n",
      "Epoch 29/100\n",
      "7/7 [==============================] - 1s 172ms/step - loss: 0.4433 - accuracy: 0.7454 - val_loss: 0.4442 - val_accuracy: 0.7547\n",
      "Epoch 30/100\n",
      "7/7 [==============================] - 1s 172ms/step - loss: 0.4412 - accuracy: 0.7546 - val_loss: 0.4437 - val_accuracy: 0.7358\n",
      "Epoch 31/100\n",
      "7/7 [==============================] - 1s 182ms/step - loss: 0.4384 - accuracy: 0.7546 - val_loss: 0.4241 - val_accuracy: 0.7547\n",
      "Epoch 32/100\n",
      "7/7 [==============================] - 1s 190ms/step - loss: 0.4115 - accuracy: 0.7824 - val_loss: 0.4043 - val_accuracy: 0.7925\n",
      "Epoch 33/100\n",
      "7/7 [==============================] - 1s 174ms/step - loss: 0.4863 - accuracy: 0.8056 - val_loss: 0.4403 - val_accuracy: 0.7547\n",
      "Epoch 34/100\n",
      "7/7 [==============================] - 1s 172ms/step - loss: 0.4693 - accuracy: 0.7269 - val_loss: 0.5099 - val_accuracy: 0.6792\n",
      "Epoch 35/100\n",
      "7/7 [==============================] - 1s 174ms/step - loss: 0.4830 - accuracy: 0.7130 - val_loss: 0.4567 - val_accuracy: 0.7170\n",
      "Epoch 36/100\n",
      "7/7 [==============================] - 1s 172ms/step - loss: 0.4621 - accuracy: 0.7454 - val_loss: 0.4524 - val_accuracy: 0.7358\n",
      "Epoch 37/100\n",
      "7/7 [==============================] - 1s 183ms/step - loss: 0.4705 - accuracy: 0.7361 - val_loss: 0.4505 - val_accuracy: 0.7358\n",
      "Epoch 38/100\n",
      "7/7 [==============================] - 1s 182ms/step - loss: 0.4367 - accuracy: 0.7593 - val_loss: 0.4476 - val_accuracy: 0.7358\n",
      "Epoch 39/100\n",
      "7/7 [==============================] - 1s 174ms/step - loss: 0.4245 - accuracy: 0.7778 - val_loss: 0.4082 - val_accuracy: 0.7736\n",
      "Epoch 40/100\n",
      "7/7 [==============================] - 1s 176ms/step - loss: 0.4681 - accuracy: 0.7870 - val_loss: 0.4601 - val_accuracy: 0.7170\n",
      "Epoch 41/100\n",
      "7/7 [==============================] - 1s 172ms/step - loss: 0.4393 - accuracy: 0.7593 - val_loss: 0.4827 - val_accuracy: 0.7170\n",
      "Epoch 42/100\n",
      "7/7 [==============================] - 1s 177ms/step - loss: 0.4318 - accuracy: 0.7593 - val_loss: 0.5925 - val_accuracy: 0.7358\n"
     ]
    }
   ],
   "source": [
    "alexnet_model = Sequential([\n",
    "        Conv2D(96, (11, 11), activation = 'relu', strides = (4, 4), input_shape = (224, 224, 3)),\n",
    "        MaxPooling2D(pool_size = (3, 3), strides = (2, 2)),\n",
    "        Conv2D(256, (5, 5), activation = 'relu', padding = 'same'),\n",
    "        MaxPooling2D(pool_size = (3, 3), strides = (2, 2)),\n",
    "        Conv2D(384, (3, 3), activation = 'relu', padding = 'same'),\n",
    "        Conv2D(384, (3, 3), activation = 'relu', padding = 'same'),\n",
    "        Conv2D(256, (3, 3), activation = 'relu', padding = 'same'),\n",
    "        MaxPooling2D(pool_size = (3, 3), strides = (2, 2)),\n",
    "        Flatten(),\n",
    "        Dense(4096, activation = 'relu'),\n",
    "        Dropout(0.5),\n",
    "        Dense(4096, activation = 'relu'),\n",
    "        Dropout(0.5),\n",
    "        Dense(1, activation = 'sigmoid')\n",
    "    ])\n",
    "\n",
    "alexnet_model.compile(optimizer = 'adam', loss = 'binary_crossentropy', metrics = ['accuracy'])\n",
    "alexnet_history = alexnet_model.fit(train_generator_224, validation_data = validation_generator_224, epochs = 100, \n",
    "                                    callbacks = [early_stopping])"
   ]
  },
  {
   "cell_type": "code",
   "execution_count": 25,
   "metadata": {},
   "outputs": [],
   "source": [
    "models.append(alexnet_model)\n",
    "model_names.append(\"AlexNet\")\n",
    "histories.append(alexnet_history)"
   ]
  },
  {
   "cell_type": "markdown",
   "metadata": {},
   "source": [
    "### VGG16 (Without Top)"
   ]
  },
  {
   "cell_type": "code",
   "execution_count": 26,
   "metadata": {},
   "outputs": [
    {
     "name": "stdout",
     "output_type": "stream",
     "text": [
      "Epoch 1/100\n",
      "7/7 [==============================] - 35s 3s/step - loss: 3.7155 - accuracy: 0.4722 - val_loss: 0.6947 - val_accuracy: 0.5094\n",
      "Epoch 2/100\n",
      "7/7 [==============================] - 3s 408ms/step - loss: 0.7782 - accuracy: 0.5741 - val_loss: 0.6883 - val_accuracy: 0.6038\n",
      "Epoch 3/100\n",
      "7/7 [==============================] - 3s 422ms/step - loss: 0.6815 - accuracy: 0.5602 - val_loss: 0.6947 - val_accuracy: 0.4340\n",
      "Epoch 4/100\n",
      "7/7 [==============================] - 4s 473ms/step - loss: 0.6898 - accuracy: 0.5417 - val_loss: 0.6886 - val_accuracy: 0.6038\n",
      "Epoch 5/100\n",
      "7/7 [==============================] - 4s 482ms/step - loss: 0.9112 - accuracy: 0.5556 - val_loss: 0.6840 - val_accuracy: 0.6038\n",
      "Epoch 6/100\n",
      "7/7 [==============================] - 4s 468ms/step - loss: 0.6958 - accuracy: 0.5556 - val_loss: 0.6858 - val_accuracy: 0.6038\n",
      "Epoch 7/100\n",
      "7/7 [==============================] - 4s 479ms/step - loss: 0.6933 - accuracy: 0.5694 - val_loss: 0.6710 - val_accuracy: 0.6038\n",
      "Epoch 8/100\n",
      "7/7 [==============================] - 4s 463ms/step - loss: 0.6838 - accuracy: 0.5880 - val_loss: 0.6754 - val_accuracy: 0.6038\n",
      "Epoch 9/100\n",
      "7/7 [==============================] - 4s 474ms/step - loss: 0.6834 - accuracy: 0.5880 - val_loss: 0.6719 - val_accuracy: 0.6038\n",
      "Epoch 10/100\n",
      "7/7 [==============================] - 4s 476ms/step - loss: 0.6814 - accuracy: 0.5926 - val_loss: 0.6715 - val_accuracy: 0.6038\n",
      "Epoch 11/100\n",
      "7/7 [==============================] - 4s 475ms/step - loss: 0.6776 - accuracy: 0.5972 - val_loss: 0.6718 - val_accuracy: 0.6038\n",
      "Epoch 12/100\n",
      "7/7 [==============================] - 4s 473ms/step - loss: 0.6753 - accuracy: 0.5926 - val_loss: 0.6715 - val_accuracy: 0.6038\n",
      "Epoch 13/100\n",
      "7/7 [==============================] - 4s 471ms/step - loss: 0.6853 - accuracy: 0.5926 - val_loss: 0.6723 - val_accuracy: 0.6038\n",
      "Epoch 14/100\n",
      "7/7 [==============================] - 4s 494ms/step - loss: 0.6839 - accuracy: 0.5926 - val_loss: 0.6766 - val_accuracy: 0.6038\n",
      "Epoch 15/100\n",
      "7/7 [==============================] - 4s 492ms/step - loss: 0.6809 - accuracy: 0.5926 - val_loss: 0.6704 - val_accuracy: 0.6038\n",
      "Epoch 16/100\n",
      "7/7 [==============================] - 4s 466ms/step - loss: 0.6731 - accuracy: 0.5926 - val_loss: 0.6715 - val_accuracy: 0.6038\n",
      "Epoch 17/100\n",
      "7/7 [==============================] - 4s 464ms/step - loss: 0.6887 - accuracy: 0.5880 - val_loss: 0.6734 - val_accuracy: 0.6038\n",
      "Epoch 18/100\n",
      "7/7 [==============================] - 4s 471ms/step - loss: 0.6788 - accuracy: 0.5926 - val_loss: 0.6761 - val_accuracy: 0.6038\n",
      "Epoch 19/100\n",
      "7/7 [==============================] - 4s 480ms/step - loss: 0.6831 - accuracy: 0.5926 - val_loss: 0.6741 - val_accuracy: 0.6038\n",
      "Epoch 20/100\n",
      "7/7 [==============================] - 4s 469ms/step - loss: 0.6831 - accuracy: 0.5926 - val_loss: 0.6724 - val_accuracy: 0.6038\n",
      "Epoch 21/100\n",
      "7/7 [==============================] - 4s 474ms/step - loss: 0.6827 - accuracy: 0.5926 - val_loss: 0.6726 - val_accuracy: 0.6038\n",
      "Epoch 22/100\n",
      "7/7 [==============================] - 4s 476ms/step - loss: 0.6731 - accuracy: 0.5926 - val_loss: 0.6718 - val_accuracy: 0.6038\n",
      "Epoch 23/100\n",
      "7/7 [==============================] - 4s 473ms/step - loss: 0.6761 - accuracy: 0.5926 - val_loss: 0.6712 - val_accuracy: 0.6038\n",
      "Epoch 24/100\n",
      "7/7 [==============================] - 4s 475ms/step - loss: 0.6729 - accuracy: 0.5926 - val_loss: 0.6717 - val_accuracy: 0.6038\n",
      "Epoch 25/100\n",
      "7/7 [==============================] - 4s 474ms/step - loss: 0.6759 - accuracy: 0.5926 - val_loss: 0.6709 - val_accuracy: 0.6038\n"
     ]
    }
   ],
   "source": [
    "# Load VGG16 model\n",
    "base_vgg16 = VGG16(weights='imagenet', include_top=False, input_shape=(224, 224, 3))\n",
    "\n",
    "# Build model\n",
    "vgg_16_model = Sequential([\n",
    "    base_vgg16,\n",
    "    Flatten(),\n",
    "    Dense(256, activation='relu'),\n",
    "    Dropout(0.5),\n",
    "    Dense(1, activation='sigmoid')\n",
    "])\n",
    "\n",
    "# Compile model\n",
    "vgg_16_model.compile(optimizer=Adam(), loss='binary_crossentropy', metrics=['accuracy'])\n",
    "vgg16_history = vgg_16_model.fit(train_generator_224, validation_data = validation_generator_224, epochs = 100, \n",
    "                                    callbacks = [early_stopping])"
   ]
  },
  {
   "cell_type": "code",
   "execution_count": 27,
   "metadata": {},
   "outputs": [],
   "source": [
    "models.append(vgg_16_model)\n",
    "model_names.append(\"VGG16\")\n",
    "histories.append(vgg16_history)"
   ]
  },
  {
   "cell_type": "markdown",
   "metadata": {},
   "source": [
    "### VGG19 (Without Top)"
   ]
  },
  {
   "cell_type": "code",
   "execution_count": 28,
   "metadata": {},
   "outputs": [
    {
     "name": "stdout",
     "output_type": "stream",
     "text": [
      "Epoch 1/100\n",
      "7/7 [==============================] - 5s 635ms/step - loss: 9.5842 - accuracy: 0.5556 - val_loss: 0.7196 - val_accuracy: 0.6038\n",
      "Epoch 2/100\n",
      "7/7 [==============================] - 4s 549ms/step - loss: 0.7277 - accuracy: 0.5000 - val_loss: 0.6905 - val_accuracy: 0.6038\n",
      "Epoch 3/100\n",
      "7/7 [==============================] - 4s 543ms/step - loss: 0.7059 - accuracy: 0.5972 - val_loss: 0.7240 - val_accuracy: 0.3962\n",
      "Epoch 4/100\n",
      "7/7 [==============================] - 4s 553ms/step - loss: 0.7062 - accuracy: 0.5417 - val_loss: 0.6849 - val_accuracy: 0.6038\n",
      "Epoch 5/100\n",
      "7/7 [==============================] - 4s 551ms/step - loss: 0.6864 - accuracy: 0.5833 - val_loss: 0.6738 - val_accuracy: 0.6038\n",
      "Epoch 6/100\n",
      "7/7 [==============================] - 4s 545ms/step - loss: 0.6945 - accuracy: 0.5880 - val_loss: 0.6795 - val_accuracy: 0.6038\n",
      "Epoch 7/100\n",
      "7/7 [==============================] - 4s 564ms/step - loss: 0.6872 - accuracy: 0.5926 - val_loss: 0.6811 - val_accuracy: 0.6038\n",
      "Epoch 8/100\n",
      "7/7 [==============================] - 4s 552ms/step - loss: 0.6886 - accuracy: 0.5602 - val_loss: 0.6712 - val_accuracy: 0.6038\n",
      "Epoch 9/100\n",
      "7/7 [==============================] - 4s 546ms/step - loss: 0.6849 - accuracy: 0.5926 - val_loss: 0.6811 - val_accuracy: 0.6038\n",
      "Epoch 10/100\n",
      "7/7 [==============================] - 4s 540ms/step - loss: 0.6855 - accuracy: 0.5926 - val_loss: 0.6753 - val_accuracy: 0.6038\n",
      "Epoch 11/100\n",
      "7/7 [==============================] - 4s 543ms/step - loss: 0.6827 - accuracy: 0.5926 - val_loss: 0.6727 - val_accuracy: 0.6038\n",
      "Epoch 12/100\n",
      "7/7 [==============================] - 4s 538ms/step - loss: 0.6794 - accuracy: 0.5926 - val_loss: 0.6728 - val_accuracy: 0.6038\n",
      "Epoch 13/100\n",
      "7/7 [==============================] - 4s 571ms/step - loss: 0.6833 - accuracy: 0.5926 - val_loss: 0.6776 - val_accuracy: 0.6038\n",
      "Epoch 14/100\n",
      "7/7 [==============================] - 4s 554ms/step - loss: 0.6827 - accuracy: 0.5926 - val_loss: 0.6749 - val_accuracy: 0.6038\n",
      "Epoch 15/100\n",
      "7/7 [==============================] - 4s 569ms/step - loss: 0.6758 - accuracy: 0.5926 - val_loss: 0.6710 - val_accuracy: 0.6038\n",
      "Epoch 16/100\n",
      "7/7 [==============================] - 4s 550ms/step - loss: 0.6801 - accuracy: 0.5926 - val_loss: 0.6702 - val_accuracy: 0.6038\n",
      "Epoch 17/100\n",
      "7/7 [==============================] - 4s 528ms/step - loss: 0.6691 - accuracy: 0.5926 - val_loss: 0.6752 - val_accuracy: 0.6038\n",
      "Epoch 18/100\n",
      "7/7 [==============================] - 4s 490ms/step - loss: 0.6932 - accuracy: 0.5833 - val_loss: 0.6769 - val_accuracy: 0.6038\n",
      "Epoch 19/100\n",
      "7/7 [==============================] - 4s 506ms/step - loss: 0.6822 - accuracy: 0.5926 - val_loss: 0.6715 - val_accuracy: 0.6038\n",
      "Epoch 20/100\n",
      "7/7 [==============================] - 4s 549ms/step - loss: 0.6776 - accuracy: 0.5926 - val_loss: 0.6734 - val_accuracy: 0.6038\n",
      "Epoch 21/100\n",
      "7/7 [==============================] - 4s 547ms/step - loss: 0.6771 - accuracy: 0.5926 - val_loss: 0.6719 - val_accuracy: 0.6038\n",
      "Epoch 22/100\n",
      "7/7 [==============================] - 4s 553ms/step - loss: 0.6809 - accuracy: 0.5926 - val_loss: 0.6742 - val_accuracy: 0.6038\n",
      "Epoch 23/100\n",
      "7/7 [==============================] - 4s 554ms/step - loss: 0.6802 - accuracy: 0.5926 - val_loss: 0.6726 - val_accuracy: 0.6038\n",
      "Epoch 24/100\n",
      "7/7 [==============================] - 4s 550ms/step - loss: 0.6695 - accuracy: 0.5926 - val_loss: 0.6706 - val_accuracy: 0.6038\n",
      "Epoch 25/100\n",
      "7/7 [==============================] - 4s 547ms/step - loss: 0.6832 - accuracy: 0.5926 - val_loss: 0.6716 - val_accuracy: 0.6038\n",
      "Epoch 26/100\n",
      "7/7 [==============================] - 4s 549ms/step - loss: 0.6742 - accuracy: 0.5972 - val_loss: 0.6980 - val_accuracy: 0.6038\n"
     ]
    }
   ],
   "source": [
    "base_vgg19 = VGG19(weights='imagenet', include_top=False, input_shape=(224, 224, 3))\n",
    "\n",
    "# Build model\n",
    "vgg_19_model = Sequential([\n",
    "    base_vgg19,\n",
    "    Flatten(),\n",
    "    Dense(256, activation='relu'),\n",
    "    Dropout(0.5),\n",
    "    Dense(1, activation='sigmoid')\n",
    "])\n",
    "\n",
    "# Compile model\n",
    "vgg_19_model.compile(optimizer=Adam(), loss='binary_crossentropy', metrics=['accuracy'])\n",
    "vgg19_history = vgg_19_model.fit(train_generator_224, validation_data = validation_generator_224, epochs = 100, \n",
    "                                    callbacks = [early_stopping])"
   ]
  },
  {
   "cell_type": "code",
   "execution_count": 29,
   "metadata": {},
   "outputs": [],
   "source": [
    "models.append(vgg_19_model)\n",
    "model_names.append(\"VGG19\")\n",
    "histories.append(vgg19_history)"
   ]
  },
  {
   "cell_type": "markdown",
   "metadata": {},
   "source": [
    "### VGG16 (With Top)"
   ]
  },
  {
   "cell_type": "code",
   "execution_count": 30,
   "metadata": {},
   "outputs": [],
   "source": [
    "# Getting resource exhaust error even with batch_size of 2\n",
    "\n",
    "# # Load VGG16 model\n",
    "# base_vgg16_2 = VGG16(weights='imagenet', include_top=True, input_shape=(224, 224, 3))\n",
    "\n",
    "# # Build model\n",
    "# vgg_16_model_2 = Sequential([\n",
    "#     base_vgg16_2,\n",
    "#     Flatten(),\n",
    "#     Dense(256, activation='relu'),\n",
    "#     Dropout(0.5),\n",
    "#     Dense(1, activation='sigmoid')\n",
    "# ])\n",
    "\n",
    "# # Compile model\n",
    "# vgg_16_model_2.compile(optimizer=Adam(), loss='binary_crossentropy', metrics=['accuracy'])\n",
    "# vgg16_history_2 = vgg_16_model_2.fit(train_generator_224_8, validation_data = validation_generator_224_8, epochs = 100, \n",
    "#                                     callbacks = [early_stopping])"
   ]
  },
  {
   "cell_type": "code",
   "execution_count": 31,
   "metadata": {},
   "outputs": [],
   "source": [
    "# models.append(vgg_16_model_2)\n",
    "# model_names.append(\"VGG16_2\")\n",
    "# histories.append(vgg16_history_2)"
   ]
  },
  {
   "cell_type": "markdown",
   "metadata": {},
   "source": [
    "### VGG19 (With Top)"
   ]
  },
  {
   "cell_type": "code",
   "execution_count": 32,
   "metadata": {},
   "outputs": [],
   "source": [
    "# Getting resource exhaust error even with batch_size of 2\n",
    "\n",
    "# base_vgg19_2 = VGG19(weights='imagenet', include_top=True, input_shape=(224, 224, 3))\n",
    "\n",
    "# # Build model\n",
    "# vgg_19_model_2 = Sequential([\n",
    "#     base_vgg19_2,\n",
    "#     Flatten(),\n",
    "#     Dense(256, activation='relu'),\n",
    "#     Dropout(0.5),\n",
    "#     Dense(1, activation='sigmoid')\n",
    "# ])\n",
    "\n",
    "# # Compile model\n",
    "# vgg_19_model_2.compile(optimizer=Adam(), loss='binary_crossentropy', metrics=['accuracy'])\n",
    "# vgg19_history_2 = vgg_19_model_2.fit(train_generator_224_8, validation_data = validation_generator_224_8, epochs = 100, \n",
    "#                                     callbacks = [early_stopping])"
   ]
  },
  {
   "cell_type": "code",
   "execution_count": 33,
   "metadata": {},
   "outputs": [],
   "source": [
    "# models.append(vgg_19_model_2)\n",
    "# model_names.append(\"VGG19_2\")\n",
    "# histories.append(vgg19_history_2)"
   ]
  },
  {
   "cell_type": "markdown",
   "metadata": {},
   "source": [
    "### GoogLe Net (Without Top)"
   ]
  },
  {
   "cell_type": "code",
   "execution_count": 34,
   "metadata": {},
   "outputs": [
    {
     "name": "stdout",
     "output_type": "stream",
     "text": [
      "Epoch 1/100\n",
      "7/7 [==============================] - 11s 831ms/step - loss: 10.5830 - accuracy: 0.5787 - val_loss: 8.7367 - val_accuracy: 0.6226\n",
      "Epoch 2/100\n",
      "7/7 [==============================] - 2s 283ms/step - loss: 1.3921 - accuracy: 0.7454 - val_loss: 155.7458 - val_accuracy: 0.6038\n",
      "Epoch 3/100\n",
      "7/7 [==============================] - 2s 282ms/step - loss: 0.5775 - accuracy: 0.7870 - val_loss: 77.2508 - val_accuracy: 0.3774\n",
      "Epoch 4/100\n",
      "7/7 [==============================] - 2s 280ms/step - loss: 0.3754 - accuracy: 0.8333 - val_loss: 68.7673 - val_accuracy: 0.5283\n",
      "Epoch 5/100\n",
      "7/7 [==============================] - 2s 283ms/step - loss: 0.3274 - accuracy: 0.8750 - val_loss: 777.4735 - val_accuracy: 0.6038\n",
      "Epoch 6/100\n",
      "7/7 [==============================] - 2s 284ms/step - loss: 0.4929 - accuracy: 0.8750 - val_loss: 1638.6511 - val_accuracy: 0.6038\n",
      "Epoch 7/100\n",
      "7/7 [==============================] - 2s 286ms/step - loss: 0.2226 - accuracy: 0.9259 - val_loss: 275.0490 - val_accuracy: 0.6038\n",
      "Epoch 8/100\n",
      "7/7 [==============================] - 2s 283ms/step - loss: 0.4506 - accuracy: 0.8889 - val_loss: 160.7144 - val_accuracy: 0.5283\n",
      "Epoch 9/100\n",
      "7/7 [==============================] - 2s 285ms/step - loss: 0.4947 - accuracy: 0.8519 - val_loss: 2118.8613 - val_accuracy: 0.4906\n",
      "Epoch 10/100\n",
      "7/7 [==============================] - 2s 281ms/step - loss: 0.2931 - accuracy: 0.8287 - val_loss: 59838.8477 - val_accuracy: 0.6038\n",
      "Epoch 11/100\n",
      "7/7 [==============================] - 2s 298ms/step - loss: 0.2840 - accuracy: 0.9167 - val_loss: 66109.3672 - val_accuracy: 0.6038\n"
     ]
    }
   ],
   "source": [
    "def create_inceptionv3_model(input_shape, num_classes):\n",
    "    base_model = InceptionV3(weights='imagenet', include_top=False, input_shape=input_shape)\n",
    "    model = Sequential([\n",
    "        base_model,\n",
    "        Flatten(),\n",
    "        Dense(1024, activation='relu'),\n",
    "        Dense(num_classes, activation='softmax' if num_classes > 1 else 'sigmoid')\n",
    "    ])\n",
    "    model.compile(optimizer='adam', loss='binary_crossentropy' if num_classes == 1 else 'categorical_crossentropy', metrics=['accuracy'])\n",
    "    return model\n",
    "\n",
    "# Create the model\n",
    "inceptionv3_model = create_inceptionv3_model(input_shape=(224, 224, 3), num_classes=1)\n",
    "\n",
    "# Train the model\n",
    "inceptionv3_history = inceptionv3_model.fit(\n",
    "    train_generator_224,\n",
    "    validation_data=validation_generator_224,\n",
    "    epochs=100,\n",
    "    callbacks=[early_stopping]\n",
    ")"
   ]
  },
  {
   "cell_type": "code",
   "execution_count": 35,
   "metadata": {},
   "outputs": [],
   "source": [
    "models.append(inceptionv3_model)\n",
    "model_names.append(\"GoogLe Net\")\n",
    "histories.append(inceptionv3_history)"
   ]
  },
  {
   "cell_type": "markdown",
   "metadata": {},
   "source": [
    "### ### GoogLe Net (With Top)"
   ]
  },
  {
   "cell_type": "code",
   "execution_count": 38,
   "metadata": {},
   "outputs": [],
   "source": [
    "# Resource exhaust error, but it worked first time I ran it but over fitting\n",
    "\n",
    "# def create_inceptionv3_model_top(input_shape, num_classes):\n",
    "#     base_model = InceptionV3(weights='imagenet', include_top=True, input_shape=input_shape)\n",
    "#     model = Sequential([\n",
    "#         base_model,\n",
    "#         Flatten(),\n",
    "#         Dense(1024, activation='relu'),\n",
    "#         Dropout(0.5)\n",
    "#         Dense(num_classes, activation='softmax' if num_classes > 1 else 'sigmoid')\n",
    "#     ])\n",
    "#     model.compile(optimizer='adam', loss='binary_crossentropy' if num_classes == 1 else 'categorical_crossentropy', metrics=['accuracy'])\n",
    "#     return model\n",
    "\n",
    "# # Create the model\n",
    "# inceptionv3_model_top = create_inceptionv3_model_top(input_shape=(299, 299, 3), num_classes=1)\n",
    "\n",
    "# # Train the model\n",
    "# inceptionv3_history_top = inceptionv3_model_top.fit(\n",
    "#     train_generator_299,\n",
    "#     validation_data=validation_generator_299,\n",
    "#     epochs=100,\n",
    "#     callbacks=[early_stopping]\n",
    "# )"
   ]
  },
  {
   "cell_type": "code",
   "execution_count": 39,
   "metadata": {},
   "outputs": [],
   "source": [
    "# models.append(inceptionv3_model_top)\n",
    "# model_names.append(\"GoogLe Net (With Top)\")\n",
    "# histories.append(inceptionv3_history_top)"
   ]
  },
  {
   "cell_type": "markdown",
   "metadata": {},
   "source": [
    "### ResNet-50"
   ]
  },
  {
   "cell_type": "code",
   "execution_count": 50,
   "metadata": {},
   "outputs": [],
   "source": [
    "# Resource exhaust even with batch_size = 2\n",
    "\n",
    "# def create_resnet50_model(input_shape, num_classes):\n",
    "#     base_model = ResNet50(weights='imagenet', include_top=False, input_shape=input_shape)\n",
    "#     model = Sequential([\n",
    "#         base_model,\n",
    "#         Flatten(),\n",
    "#         Dense(1024, activation='relu'),\n",
    "#         Dropout(0.5),\n",
    "#         Dense(num_classes, activation='softmax' if num_classes > 1 else 'sigmoid')\n",
    "#     ])\n",
    "#     model.compile(optimizer='adam', loss='binary_crossentropy' if num_classes == 1 else 'categorical_crossentropy', metrics=['accuracy'])\n",
    "#     return model\n",
    "\n",
    "# # Create the model\n",
    "# resnet50_model = create_resnet50_model(input_shape=(224, 224, 3), num_classes=1)\n",
    "\n",
    "# # Train the model\n",
    "# resnet50_history = resnet50_model.fit(\n",
    "#     train_generator_224_8,\n",
    "#     validation_data=validation_generator_224_8,\n",
    "#     epochs=100,\n",
    "#     callbacks=[early_stopping]\n",
    "# )"
   ]
  },
  {
   "cell_type": "code",
   "execution_count": 51,
   "metadata": {},
   "outputs": [],
   "source": [
    "# models.append(resnet50_model)\n",
    "# model_names.append(\"ResNet-50\")\n",
    "# histories.append(resnet50_history)"
   ]
  },
  {
   "cell_type": "markdown",
   "metadata": {},
   "source": [
    "### ResNet-50 (With Top)"
   ]
  },
  {
   "cell_type": "code",
   "execution_count": 52,
   "metadata": {},
   "outputs": [],
   "source": [
    "# Resource exhaust even with batch_size = 2\n",
    "\n",
    "# def create_resnet50_model_top(input_shape, num_classes):\n",
    "#     base_model = ResNet50(weights='imagenet', include_top=True, input_shape=input_shape)\n",
    "#     model = Sequential([\n",
    "#         base_model,\n",
    "#         Flatten(),\n",
    "#         Dense(1024, activation='relu'),\n",
    "#         Dropout(0.5),\n",
    "#         Dense(num_classes, activation='softmax' if num_classes > 1 else 'sigmoid')\n",
    "#     ])\n",
    "#     model.compile(optimizer='adam', loss='binary_crossentropy' if num_classes == 1 else 'categorical_crossentropy', metrics=['accuracy'])\n",
    "#     return model\n",
    "\n",
    "# # Create the model\n",
    "# resnet50_model_top = create_resnet50_model_top(input_shape=(224, 224, 3), num_classes=1)\n",
    "\n",
    "# # Train the model\n",
    "# resnet50_history_top = resnet50_model_top.fit(\n",
    "#     train_generator_224_8,\n",
    "#     validation_data=validation_generator_224_8,\n",
    "#     epochs=100,\n",
    "#     callbacks=[early_stopping]\n",
    "# )"
   ]
  },
  {
   "cell_type": "code",
   "execution_count": 53,
   "metadata": {},
   "outputs": [],
   "source": [
    "# models.append(resnet50_model_top)\n",
    "# model_names.append(\"ResNet-50 (With Top)\")\n",
    "# histories.append(resnet50_history_top)"
   ]
  },
  {
   "cell_type": "markdown",
   "metadata": {},
   "source": [
    "### MobileNet"
   ]
  },
  {
   "cell_type": "code",
   "execution_count": 57,
   "metadata": {},
   "outputs": [],
   "source": [
    "# Resource exhaust even with batch_size = 2\n",
    "\n",
    "# def create_mobilenet_model(input_shape, num_classes):\n",
    "#     base_model = MobileNet(weights='imagenet', include_top=False, input_shape=input_shape)\n",
    "#     model = Sequential([\n",
    "#         base_model,\n",
    "#         Flatten(),\n",
    "#         Dense(1024, activation='relu'),\n",
    "#         Dense(num_classes, activation='softmax' if num_classes > 1 else 'sigmoid')\n",
    "#     ])\n",
    "#     model.compile(optimizer='adam', loss='binary_crossentropy' if num_classes == 1 else 'categorical_crossentropy', metrics=['accuracy'])\n",
    "#     return model\n",
    "\n",
    "# # Create the model\n",
    "# mobilenet_model = create_mobilenet_model(input_shape=(224, 224, 3), num_classes=1)\n",
    "\n",
    "# # Train the model\n",
    "# mobilenet_history = mobilenet_model.fit(\n",
    "#     train_generator_224_8,\n",
    "#     validation_data=validation_generator_224_8,\n",
    "#     epochs=100,\n",
    "#     callbacks=[early_stopping]\n",
    "# )"
   ]
  },
  {
   "cell_type": "code",
   "execution_count": 58,
   "metadata": {},
   "outputs": [],
   "source": [
    "# models.append(mobilenet_model)\n",
    "# model_names.append(\"MobileNet\")\n",
    "# histories.append(mobilenet_history)"
   ]
  },
  {
   "cell_type": "markdown",
   "metadata": {},
   "source": [
    "### MobileNet (With Top)"
   ]
  },
  {
   "cell_type": "code",
   "execution_count": 59,
   "metadata": {},
   "outputs": [],
   "source": [
    "# Resource exhaust even with batch_size = 2\n",
    "\n",
    "# def create_mobilenet_model_top(input_shape, num_classes):\n",
    "#     base_model = MobileNet(weights='imagenet', include_top=True, input_shape=input_shape)\n",
    "#     model = Sequential([\n",
    "#         base_model,\n",
    "#         Flatten(),\n",
    "#         Dense(1024, activation='relu'),\n",
    "#         Dense(num_classes, activation='softmax' if num_classes > 1 else 'sigmoid')\n",
    "#     ])\n",
    "#     model.compile(optimizer='adam', loss='binary_crossentropy' if num_classes == 1 else 'categorical_crossentropy', metrics=['accuracy'])\n",
    "#     return model\n",
    "\n",
    "# # Create the model\n",
    "# mobilenet_model_top = create_mobilenet_model_top(input_shape=(224, 224, 3), num_classes=1)\n",
    "\n",
    "# # Train the model\n",
    "# mobilenet_history_top = mobilenet_model_top.fit(\n",
    "#     train_generator_224_8,\n",
    "#     validation_data=validation_generator_224_8,\n",
    "#     epochs=100,\n",
    "#     callbacks=[early_stopping]\n",
    "# )"
   ]
  },
  {
   "cell_type": "code",
   "execution_count": 60,
   "metadata": {},
   "outputs": [],
   "source": [
    "# models.append(mobilenet_model_top)\n",
    "# model_names.append(\"MobileNet (With Top)\")\n",
    "# histories.append(mobilenet_history_top)"
   ]
  },
  {
   "cell_type": "markdown",
   "metadata": {},
   "source": [
    "### DenseNet"
   ]
  },
  {
   "cell_type": "code",
   "execution_count": 63,
   "metadata": {},
   "outputs": [
    {
     "name": "stdout",
     "output_type": "stream",
     "text": [
      "Epoch 1/100\n",
      "108/108 [==============================] - 14s 77ms/step - loss: 17.2525 - accuracy: 0.5648 - val_loss: 24.2041 - val_accuracy: 0.6226\n",
      "Epoch 2/100\n",
      "108/108 [==============================] - 7s 67ms/step - loss: 1.3516 - accuracy: 0.6481 - val_loss: 3.2305 - val_accuracy: 0.6038\n",
      "Epoch 3/100\n",
      "108/108 [==============================] - 7s 67ms/step - loss: 1.1980 - accuracy: 0.6991 - val_loss: 3.2063 - val_accuracy: 0.5660\n",
      "Epoch 4/100\n",
      "108/108 [==============================] - 7s 66ms/step - loss: 0.8626 - accuracy: 0.6667 - val_loss: 0.8859 - val_accuracy: 0.7925\n",
      "Epoch 5/100\n",
      "108/108 [==============================] - 7s 66ms/step - loss: 0.6661 - accuracy: 0.7269 - val_loss: 0.5156 - val_accuracy: 0.7547\n",
      "Epoch 6/100\n",
      "108/108 [==============================] - 7s 65ms/step - loss: 0.3554 - accuracy: 0.8333 - val_loss: 0.5507 - val_accuracy: 0.8491\n",
      "Epoch 7/100\n",
      "108/108 [==============================] - 7s 66ms/step - loss: 0.4471 - accuracy: 0.8194 - val_loss: 0.3364 - val_accuracy: 0.8679\n",
      "Epoch 8/100\n",
      "108/108 [==============================] - 7s 65ms/step - loss: 0.3687 - accuracy: 0.8241 - val_loss: 0.4971 - val_accuracy: 0.8491\n",
      "Epoch 9/100\n",
      "108/108 [==============================] - 7s 65ms/step - loss: 0.3039 - accuracy: 0.8611 - val_loss: 0.3405 - val_accuracy: 0.8302\n",
      "Epoch 10/100\n",
      "108/108 [==============================] - 7s 65ms/step - loss: 0.2435 - accuracy: 0.8843 - val_loss: 0.3716 - val_accuracy: 0.9057\n",
      "Epoch 11/100\n",
      "108/108 [==============================] - 7s 65ms/step - loss: 0.2612 - accuracy: 0.8935 - val_loss: 0.3656 - val_accuracy: 0.8679\n",
      "Epoch 12/100\n",
      "108/108 [==============================] - 7s 66ms/step - loss: 0.1862 - accuracy: 0.9259 - val_loss: 0.2447 - val_accuracy: 0.8868\n",
      "Epoch 13/100\n",
      "108/108 [==============================] - 7s 65ms/step - loss: 0.2369 - accuracy: 0.8935 - val_loss: 0.3016 - val_accuracy: 0.9245\n",
      "Epoch 14/100\n",
      "108/108 [==============================] - 7s 65ms/step - loss: 0.2626 - accuracy: 0.8935 - val_loss: 0.7969 - val_accuracy: 0.7925\n",
      "Epoch 15/100\n",
      "108/108 [==============================] - 7s 64ms/step - loss: 0.3328 - accuracy: 0.8611 - val_loss: 0.8927 - val_accuracy: 0.7358\n",
      "Epoch 16/100\n",
      "108/108 [==============================] - 7s 65ms/step - loss: 0.2932 - accuracy: 0.8657 - val_loss: 0.2442 - val_accuracy: 0.8868\n",
      "Epoch 17/100\n",
      "108/108 [==============================] - 7s 66ms/step - loss: 0.1885 - accuracy: 0.9120 - val_loss: 0.4154 - val_accuracy: 0.8302\n",
      "Epoch 18/100\n",
      "108/108 [==============================] - 7s 65ms/step - loss: 0.2184 - accuracy: 0.9213 - val_loss: 0.2849 - val_accuracy: 0.8491\n",
      "Epoch 19/100\n",
      "108/108 [==============================] - 7s 65ms/step - loss: 0.2192 - accuracy: 0.9074 - val_loss: 0.2906 - val_accuracy: 0.8679\n",
      "Epoch 20/100\n",
      "108/108 [==============================] - 7s 65ms/step - loss: 0.1411 - accuracy: 0.9537 - val_loss: 0.2952 - val_accuracy: 0.9057\n",
      "Epoch 21/100\n",
      "108/108 [==============================] - 7s 65ms/step - loss: 0.2434 - accuracy: 0.9167 - val_loss: 0.3317 - val_accuracy: 0.8491\n",
      "Epoch 22/100\n",
      "108/108 [==============================] - 7s 65ms/step - loss: 0.2285 - accuracy: 0.9306 - val_loss: 0.7057 - val_accuracy: 0.7358\n",
      "Epoch 23/100\n",
      "108/108 [==============================] - 7s 66ms/step - loss: 0.1783 - accuracy: 0.9398 - val_loss: 0.1643 - val_accuracy: 0.9245\n",
      "Epoch 24/100\n",
      "108/108 [==============================] - 7s 65ms/step - loss: 0.1800 - accuracy: 0.9352 - val_loss: 0.1787 - val_accuracy: 0.9434\n",
      "Epoch 25/100\n",
      "108/108 [==============================] - 7s 65ms/step - loss: 0.1748 - accuracy: 0.9537 - val_loss: 0.3808 - val_accuracy: 0.8868\n",
      "Epoch 26/100\n",
      "108/108 [==============================] - 7s 65ms/step - loss: 0.2352 - accuracy: 0.9120 - val_loss: 0.3530 - val_accuracy: 0.8679\n",
      "Epoch 27/100\n",
      "108/108 [==============================] - 7s 65ms/step - loss: 0.3439 - accuracy: 0.8704 - val_loss: 0.7009 - val_accuracy: 0.7736\n",
      "Epoch 28/100\n",
      "108/108 [==============================] - 7s 64ms/step - loss: 0.2062 - accuracy: 0.9259 - val_loss: 1.9056 - val_accuracy: 0.7925\n",
      "Epoch 29/100\n",
      "108/108 [==============================] - 7s 65ms/step - loss: 0.2080 - accuracy: 0.9120 - val_loss: 0.6242 - val_accuracy: 0.8491\n",
      "Epoch 30/100\n",
      "108/108 [==============================] - 7s 65ms/step - loss: 0.2880 - accuracy: 0.9074 - val_loss: 0.3184 - val_accuracy: 0.8491\n",
      "Epoch 31/100\n",
      "108/108 [==============================] - 7s 65ms/step - loss: 0.1412 - accuracy: 0.9444 - val_loss: 0.2973 - val_accuracy: 0.8868\n",
      "Epoch 32/100\n",
      "108/108 [==============================] - 7s 65ms/step - loss: 0.1179 - accuracy: 0.9537 - val_loss: 0.5549 - val_accuracy: 0.8868\n",
      "Epoch 33/100\n",
      "108/108 [==============================] - 7s 66ms/step - loss: 0.3472 - accuracy: 0.8750 - val_loss: 0.3354 - val_accuracy: 0.8679\n"
     ]
    }
   ],
   "source": [
    "def create_densenet_model(input_shape, num_classes):\n",
    "    base_model = DenseNet121(weights='imagenet', include_top=False, input_shape=input_shape)\n",
    "    model = Sequential([\n",
    "        base_model,\n",
    "        Flatten(),\n",
    "        Dense(1024, activation='relu'),\n",
    "        Dense(num_classes, activation='softmax' if num_classes > 1 else 'sigmoid')\n",
    "    ])\n",
    "    model.compile(optimizer='adam', loss='binary_crossentropy' if num_classes == 1 else 'categorical_crossentropy', metrics=['accuracy'])\n",
    "    return model\n",
    "\n",
    "# Create the model\n",
    "densenet_model = create_densenet_model(input_shape=(224, 224, 3), num_classes=1)\n",
    "\n",
    "# Train the model\n",
    "densenet_history = densenet_model.fit(\n",
    "    train_generator_224_8,\n",
    "    validation_data=validation_generator_224_8,\n",
    "    epochs=100,\n",
    "    callbacks=[early_stopping]\n",
    ")"
   ]
  },
  {
   "cell_type": "code",
   "execution_count": 65,
   "metadata": {},
   "outputs": [],
   "source": [
    "models.append(densenet_model)\n",
    "model_names.append(\"DenseNet\")\n",
    "histories.append(densenet_history)"
   ]
  },
  {
   "cell_type": "markdown",
   "metadata": {},
   "source": [
    "### DenseNet (With Top)"
   ]
  },
  {
   "cell_type": "code",
   "execution_count": 67,
   "metadata": {},
   "outputs": [
    {
     "name": "stdout",
     "output_type": "stream",
     "text": [
      "Downloading data from https://storage.googleapis.com/tensorflow/keras-applications/densenet/densenet121_weights_tf_dim_ordering_tf_kernels.h5\n",
      "33188688/33188688 [==============================] - 58s 2us/step\n",
      "Epoch 1/100\n",
      "108/108 [==============================] - 13s 68ms/step - loss: 0.6775 - accuracy: 0.5926 - val_loss: 0.6761 - val_accuracy: 0.6038\n",
      "Epoch 2/100\n",
      "108/108 [==============================] - 6s 58ms/step - loss: 0.6591 - accuracy: 0.6019 - val_loss: 0.6547 - val_accuracy: 0.6226\n",
      "Epoch 3/100\n",
      "108/108 [==============================] - 6s 59ms/step - loss: 0.6082 - accuracy: 0.7037 - val_loss: 0.7573 - val_accuracy: 0.6038\n",
      "Epoch 4/100\n",
      "108/108 [==============================] - 6s 59ms/step - loss: 0.6639 - accuracy: 0.6389 - val_loss: 0.6763 - val_accuracy: 0.6038\n",
      "Epoch 5/100\n",
      "108/108 [==============================] - 6s 59ms/step - loss: 0.6764 - accuracy: 0.5926 - val_loss: 0.6717 - val_accuracy: 0.6038\n",
      "Epoch 6/100\n",
      "108/108 [==============================] - 5s 44ms/step - loss: 0.6791 - accuracy: 0.5926 - val_loss: 0.6722 - val_accuracy: 0.6038\n",
      "Epoch 7/100\n",
      "108/108 [==============================] - 4s 41ms/step - loss: 0.6829 - accuracy: 0.5926 - val_loss: 0.6748 - val_accuracy: 0.6038\n",
      "Epoch 8/100\n",
      "108/108 [==============================] - 4s 41ms/step - loss: 0.6769 - accuracy: 0.5926 - val_loss: 0.6781 - val_accuracy: 0.5849\n",
      "Epoch 9/100\n",
      "108/108 [==============================] - 4s 41ms/step - loss: 0.6780 - accuracy: 0.5926 - val_loss: 0.6791 - val_accuracy: 0.5849\n",
      "Epoch 10/100\n",
      "108/108 [==============================] - 4s 40ms/step - loss: 0.6792 - accuracy: 0.5926 - val_loss: 0.6790 - val_accuracy: 0.5849\n",
      "Epoch 11/100\n",
      "108/108 [==============================] - 5s 43ms/step - loss: 0.6856 - accuracy: 0.5926 - val_loss: 0.6763 - val_accuracy: 0.5849\n",
      "Epoch 12/100\n",
      "108/108 [==============================] - 6s 60ms/step - loss: 0.6792 - accuracy: 0.5926 - val_loss: 0.6774 - val_accuracy: 0.5849\n"
     ]
    }
   ],
   "source": [
    "def create_densenet_model_top(input_shape, num_classes):\n",
    "    base_model = DenseNet121(weights='imagenet', include_top=True, input_shape=input_shape)\n",
    "    model = Sequential([\n",
    "        base_model,\n",
    "        Flatten(),\n",
    "        Dense(1024, activation='relu'),\n",
    "        Dropout(0.5),\n",
    "        Dense(num_classes, activation='softmax' if num_classes > 1 else 'sigmoid')\n",
    "    ])\n",
    "    model.compile(optimizer='adam', loss='binary_crossentropy' if num_classes == 1 else 'categorical_crossentropy', metrics=['accuracy'])\n",
    "    return model\n",
    "\n",
    "# Create the model\n",
    "densenet_model_top = create_densenet_model_top(input_shape=(224, 224, 3), num_classes=1)\n",
    "\n",
    "# Train the model\n",
    "densenet_history_top = densenet_model_top.fit(\n",
    "    train_generator_224_8,\n",
    "    validation_data=validation_generator_224_8,\n",
    "    epochs=100,\n",
    "    callbacks=[early_stopping]\n",
    ")"
   ]
  },
  {
   "cell_type": "code",
   "execution_count": 68,
   "metadata": {},
   "outputs": [],
   "source": [
    "models.append(densenet_model_top)\n",
    "model_names.append(\"DenseNet (With Top\")\n",
    "histories.append(densenet_history_top)"
   ]
  },
  {
   "cell_type": "markdown",
   "metadata": {},
   "source": [
    "### EfficientNet"
   ]
  },
  {
   "cell_type": "code",
   "execution_count": 73,
   "metadata": {},
   "outputs": [],
   "source": [
    "# Resource exhaust even with batch_size = 2\n",
    "\n",
    "# def create_efficientnet_model(input_shape, num_classes):\n",
    "#     base_model = EfficientNetB0(weights='imagenet', include_top=False, input_shape=input_shape)\n",
    "#     model = Sequential([\n",
    "#         base_model,\n",
    "#         Flatten(),\n",
    "#         Dense(1024, activation='relu'),\n",
    "#         Dense(num_classes, activation='softmax' if num_classes > 1 else 'sigmoid')\n",
    "#     ])\n",
    "#     model.compile(optimizer='adam', loss='binary_crossentropy' if num_classes == 1 else 'categorical_crossentropy', metrics=['accuracy'])\n",
    "#     return model\n",
    "\n",
    "# # Create the model\n",
    "# efficientnet_model = create_efficientnet_model(input_shape=(224, 224, 3), num_classes=1)\n",
    "\n",
    "# # Train the model\n",
    "# efficientnet_history = efficientnet_model.fit(\n",
    "#     train_generator_224_8,\n",
    "#     validation_data=validation_generator_224_8,\n",
    "#     epochs=100,\n",
    "#     callbacks=[early_stopping]\n",
    "# )"
   ]
  },
  {
   "cell_type": "code",
   "execution_count": 74,
   "metadata": {},
   "outputs": [],
   "source": [
    "# models.append(efficientnet_model)\n",
    "# model_names.append(\"EfficientNet\")\n",
    "# histories.append(efficientnet_history)"
   ]
  },
  {
   "cell_type": "code",
   "execution_count": 75,
   "metadata": {},
   "outputs": [],
   "source": [
    "### EfficientNet (With Top)"
   ]
  },
  {
   "cell_type": "code",
   "execution_count": 76,
   "metadata": {},
   "outputs": [],
   "source": [
    "# Resource exhaust even with batch_size = 2\n",
    "\n",
    "# def create_efficientnet_model_top(input_shape, num_classes):\n",
    "#     base_model = EfficientNetB0(weights='imagenet', include_top=True, input_shape=input_shape)\n",
    "#     model = Sequential([\n",
    "#         base_model,\n",
    "#         Flatten(),\n",
    "#         Dense(1024, activation='relu'),\n",
    "#         Dense(num_classes, activation='softmax' if num_classes > 1 else 'sigmoid')\n",
    "#     ])\n",
    "#     model.compile(optimizer='adam', loss='binary_crossentropy' if num_classes == 1 else 'categorical_crossentropy', metrics=['accuracy'])\n",
    "#     return model\n",
    "\n",
    "# # Create the model\n",
    "# efficientnet_model_top = create_efficientnet_model_top(input_shape=(224, 224, 3), num_classes=1)\n",
    "\n",
    "# # Train the model\n",
    "# efficientnet_history_top = efficientnet_model_top.fit(\n",
    "#     train_generator_224_8,\n",
    "#     validation_data=validation_generator_224_8,\n",
    "#     epochs=100,\n",
    "#     callbacks=[early_stopping]\n",
    "# )"
   ]
  },
  {
   "cell_type": "code",
   "execution_count": 77,
   "metadata": {},
   "outputs": [],
   "source": [
    "# models.append(efficientnet_model_top)\n",
    "# model_names.append(\"EfficientNet (With Top\")\n",
    "# histories.append(efficientnet_history_top)"
   ]
  },
  {
   "cell_type": "markdown",
   "metadata": {
    "id": "Hm1S5n-jo9PU"
   },
   "source": [
    "#### Evaluating the neural netwroks"
   ]
  },
  {
   "cell_type": "code",
   "execution_count": 104,
   "metadata": {},
   "outputs": [],
   "source": [
    "# Function to evaluate a model and return metrics\n",
    "def evaluate_model(model, validation_generator):\n",
    "    # Evaluate the model on the validation data\n",
    "    val_loss, val_accuracy = model.evaluate(validation_generator, verbose=0)\n",
    "    \n",
    "    # Predict on validation data\n",
    "    val_steps = np.math.ceil(validation_generator.samples / validation_generator.batch_size)\n",
    "    predictions = model.predict(validation_generator, steps=val_steps)\n",
    "    predicted_classes = np.argmax(predictions, axis=1)\n",
    "    \n",
    "    # Get true labels\n",
    "    true_classes = validation_generator.classes\n",
    "    \n",
    "    # Generate confusion matrix\n",
    "    cm = confusion_matrix(true_classes, predicted_classes)\n",
    "    \n",
    "    # Generate classification report\n",
    "    class_report = classification_report(true_classes, predicted_classes, target_names=validation_generator.class_indices.keys(), output_dict=True)\n",
    "    \n",
    "    return {\n",
    "        'loss': val_loss,\n",
    "        'accuracy': val_accuracy,\n",
    "        'confusion_matrix': cm,\n",
    "        'classification_report': class_report\n",
    "    }\n",
    "\n",
    "# Function to plot validation loss and accuracy\n",
    "def plot_metrics(histories, model_names):\n",
    "    \"\"\"\n",
    "    Plot validation loss and accuracy for multiple models.\n",
    "\n",
    "    Args:\n",
    "    histories (list): List of history objects for each model.\n",
    "    model_names (list): List of model names for plotting legend.\n",
    "    \"\"\"\n",
    "    plt.figure(figsize=(12, 6))\n",
    "    \n",
    "    # Plot validation loss for all models\n",
    "    plt.subplot(1, 2, 1)\n",
    "    for history, name in zip(histories, model_names):\n",
    "        plt.plot(history.history['val_loss'], label=f'Validation Loss ({name})')\n",
    "    plt.title('Validation Loss')\n",
    "    plt.xlabel('Epoch')\n",
    "    plt.ylabel('Loss')\n",
    "    plt.legend()\n",
    "    \n",
    "    # Plot validation accuracy for all models\n",
    "    plt.subplot(1, 2, 2)\n",
    "    for history, name in zip(histories, model_names):\n",
    "        plt.plot(history.history['val_accuracy'], label=f'Validation Accuracy ({name})')\n",
    "    plt.title('Validation Accuracy')\n",
    "    plt.xlabel('Epoch')\n",
    "    plt.ylabel('Accuracy')\n",
    "    plt.legend()\n",
    "    \n",
    "    plt.tight_layout()\n",
    "    plt.show()\n",
    "\n",
    "# Function to plot confusion matrix\n",
    "def plot_confusion_matrix(cm, class_names, model_name):\n",
    "    plt.figure(figsize=(8, 6))\n",
    "    sns.heatmap(cm, annot=True, fmt='d', cmap='Blues', xticklabels=class_names, yticklabels=class_names)\n",
    "    plt.xlabel('Predicted Label')\n",
    "    plt.ylabel('True Label')\n",
    "    plt.title(f'Confusion Matrix ({model_name})')\n",
    "    plt.show()"
   ]
  },
  {
   "cell_type": "code",
   "execution_count": 105,
   "metadata": {},
   "outputs": [
    {
     "ename": "AttributeError",
     "evalue": "'LogisticRegression' object has no attribute 'history'",
     "output_type": "error",
     "traceback": [
      "\u001b[1;31m---------------------------------------------------------------------------\u001b[0m",
      "\u001b[1;31mAttributeError\u001b[0m                            Traceback (most recent call last)",
      "Cell \u001b[1;32mIn[105], line 1\u001b[0m\n\u001b[1;32m----> 1\u001b[0m \u001b[43mplot_metrics\u001b[49m\u001b[43m(\u001b[49m\u001b[43mhistories\u001b[49m\u001b[43m,\u001b[49m\u001b[43m \u001b[49m\u001b[43mmodel_names\u001b[49m\u001b[43m)\u001b[49m\n",
      "Cell \u001b[1;32mIn[104], line 41\u001b[0m, in \u001b[0;36mplot_metrics\u001b[1;34m(histories, model_names)\u001b[0m\n\u001b[0;32m     39\u001b[0m plt\u001b[38;5;241m.\u001b[39msubplot(\u001b[38;5;241m1\u001b[39m, \u001b[38;5;241m2\u001b[39m, \u001b[38;5;241m1\u001b[39m)\n\u001b[0;32m     40\u001b[0m \u001b[38;5;28;01mfor\u001b[39;00m history, name \u001b[38;5;129;01min\u001b[39;00m \u001b[38;5;28mzip\u001b[39m(histories, model_names):\n\u001b[1;32m---> 41\u001b[0m     plt\u001b[38;5;241m.\u001b[39mplot(\u001b[43mhistory\u001b[49m\u001b[38;5;241;43m.\u001b[39;49m\u001b[43mhistory\u001b[49m[\u001b[38;5;124m'\u001b[39m\u001b[38;5;124mval_loss\u001b[39m\u001b[38;5;124m'\u001b[39m], label\u001b[38;5;241m=\u001b[39m\u001b[38;5;124mf\u001b[39m\u001b[38;5;124m'\u001b[39m\u001b[38;5;124mValidation Loss (\u001b[39m\u001b[38;5;132;01m{\u001b[39;00mname\u001b[38;5;132;01m}\u001b[39;00m\u001b[38;5;124m)\u001b[39m\u001b[38;5;124m'\u001b[39m)\n\u001b[0;32m     42\u001b[0m plt\u001b[38;5;241m.\u001b[39mtitle(\u001b[38;5;124m'\u001b[39m\u001b[38;5;124mValidation Loss\u001b[39m\u001b[38;5;124m'\u001b[39m)\n\u001b[0;32m     43\u001b[0m plt\u001b[38;5;241m.\u001b[39mxlabel(\u001b[38;5;124m'\u001b[39m\u001b[38;5;124mEpoch\u001b[39m\u001b[38;5;124m'\u001b[39m)\n",
      "\u001b[1;31mAttributeError\u001b[0m: 'LogisticRegression' object has no attribute 'history'"
     ]
    },
    {
     "data": {
      "image/png": "[encoded data removed]",
      "text/plain": [
       "<Figure size 1200x600 with 1 Axes>"
      ]
     },
     "metadata": {},
     "output_type": "display_data"
    }
   ],
   "source": [
    "plot_metrics(histories, model_names)"
   ]
  },
  {
   "cell_type": "code",
   "execution_count": 106,
   "metadata": {},
   "outputs": [
    {
     "ename": "AttributeError",
     "evalue": "'list' object has no attribute 'evaluate'",
     "output_type": "error",
     "traceback": [
      "\u001b[1;31m---------------------------------------------------------------------------\u001b[0m",
      "\u001b[1;31mAttributeError\u001b[0m                            Traceback (most recent call last)",
      "Cell \u001b[1;32mIn[106], line 1\u001b[0m\n\u001b[1;32m----> 1\u001b[0m \u001b[43mevaluate_model\u001b[49m\u001b[43m(\u001b[49m\u001b[43mmodels\u001b[49m\u001b[43m,\u001b[49m\u001b[43m \u001b[49m\u001b[43mvalidation_generator_224\u001b[49m\u001b[43m)\u001b[49m\n",
      "Cell \u001b[1;32mIn[104], line 4\u001b[0m, in \u001b[0;36mevaluate_model\u001b[1;34m(model, validation_generator)\u001b[0m\n\u001b[0;32m      2\u001b[0m \u001b[38;5;28;01mdef\u001b[39;00m \u001b[38;5;21mevaluate_model\u001b[39m(model, validation_generator):\n\u001b[0;32m      3\u001b[0m     \u001b[38;5;66;03m# Evaluate the model on the validation data\u001b[39;00m\n\u001b[1;32m----> 4\u001b[0m     val_loss, val_accuracy \u001b[38;5;241m=\u001b[39m \u001b[43mmodel\u001b[49m\u001b[38;5;241;43m.\u001b[39;49m\u001b[43mevaluate\u001b[49m(validation_generator, verbose\u001b[38;5;241m=\u001b[39m\u001b[38;5;241m0\u001b[39m)\n\u001b[0;32m      6\u001b[0m     \u001b[38;5;66;03m# Predict on validation data\u001b[39;00m\n\u001b[0;32m      7\u001b[0m     val_steps \u001b[38;5;241m=\u001b[39m np\u001b[38;5;241m.\u001b[39mmath\u001b[38;5;241m.\u001b[39mceil(validation_generator\u001b[38;5;241m.\u001b[39msamples \u001b[38;5;241m/\u001b[39m validation_generator\u001b[38;5;241m.\u001b[39mbatch_size)\n",
      "\u001b[1;31mAttributeError\u001b[0m: 'list' object has no attribute 'evaluate'"
     ]
    }
   ],
   "source": [
    "evaluate_model(models, validation_generator_224)"
   ]
  },
  {
   "cell_type": "code",
   "execution_count": 107,
   "metadata": {},
   "outputs": [
    {
     "ename": "NameError",
     "evalue": "name 'cm' is not defined",
     "output_type": "error",
     "traceback": [
      "\u001b[1;31m---------------------------------------------------------------------------\u001b[0m",
      "\u001b[1;31mNameError\u001b[0m                                 Traceback (most recent call last)",
      "Cell \u001b[1;32mIn[107], line 1\u001b[0m\n\u001b[1;32m----> 1\u001b[0m plot_confusion_matrix(\u001b[43mcm\u001b[49m, class_names, model_name)\n",
      "\u001b[1;31mNameError\u001b[0m: name 'cm' is not defined"
     ]
    }
   ],
   "source": [
    "plot_confusion_matrix(cm, class_names, model_name)"
   ]
  },
  {
   "cell_type": "code",
   "execution_count": 108,
   "metadata": {},
   "outputs": [],
   "source": [
    "def plot_metrics(histories, model_names):\n",
    "    \"\"\"\n",
    "    Plot validation loss and accuracy for multiple Keras models.\n",
    "\n",
    "    Args:\n",
    "    histories (list): List of history objects for each Keras model.\n",
    "    model_names (list): List of model names for plotting legend.\n",
    "    \"\"\"\n",
    "    plt.figure(figsize=(12, 6))\n",
    "    \n",
    "    # Plot validation loss for all models\n",
    "    plt.subplot(1, 2, 1)\n",
    "    for history, name in zip(histories, model_names):\n",
    "        plt.plot(history.history['val_loss'], label=f'Validation Loss ({name})')\n",
    "    plt.title('Validation Loss')\n",
    "    plt.xlabel('Epoch')\n",
    "    plt.ylabel('Loss')\n",
    "    plt.legend()\n",
    "    \n",
    "    # Plot validation accuracy for all models\n",
    "    plt.subplot(1, 2, 2)\n",
    "    for history, name in zip(histories, model_names):\n",
    "        plt.plot(history.history['val_accuracy'], label=f'Validation Accuracy ({name})')\n",
    "    plt.title('Validation Accuracy')\n",
    "    plt.xlabel('Epoch')\n",
    "    plt.ylabel('Accuracy')\n",
    "    plt.legend()\n",
    "    \n",
    "    plt.tight_layout()\n",
    "    plt.show()\n"
   ]
  },
  {
   "cell_type": "code",
   "execution_count": 109,
   "metadata": {},
   "outputs": [],
   "source": [
    "def plot_metrics(metrics_dict, model_names):\n",
    "    \"\"\"\n",
    "    Plot metrics for multiple models.\n",
    "\n",
    "    Args:\n",
    "    metrics_dict (dict): Dictionary where keys are model names and values are dictionaries with 'val_loss' and 'val_accuracy'.\n",
    "    model_names (list): List of model names for plotting legend.\n",
    "    \"\"\"\n",
    "    plt.figure(figsize=(12, 6))\n",
    "\n",
    "    # Plot validation loss for all models\n",
    "    plt.subplot(1, 2, 1)\n",
    "    for name in model_names:\n",
    "        metrics = metrics_dict.get(name, {})\n",
    "        plt.plot(metrics.get('epochs', []), metrics.get('val_loss', []), label=f'Validation Loss ({name})')\n",
    "    plt.title('Validation Loss')\n",
    "    plt.xlabel('Epoch')\n",
    "    plt.ylabel('Loss')\n",
    "    plt.legend()\n",
    "\n",
    "    # Plot validation accuracy for all models\n",
    "    plt.subplot(1, 2, 2)\n",
    "    for name in model_names:\n",
    "        metrics = metrics_dict.get(name, {})\n",
    "        plt.plot(metrics.get('epochs', []), metrics.get('val_accuracy', []), label=f'Validation Accuracy ({name})')\n",
    "    plt.title('Validation Accuracy')\n",
    "    plt.xlabel('Epoch')\n",
    "    plt.ylabel('Accuracy')\n",
    "    plt.legend()\n",
    "\n",
    "    plt.tight_layout()\n",
    "    plt.show()\n"
   ]
  },
  {
   "cell_type": "code",
   "execution_count": 110,
   "metadata": {},
   "outputs": [],
   "source": [
    "def evaluate_models(models, validation_generator):\n",
    "    results = {}\n",
    "    for model in models:\n",
    "        # Evaluate the model on the validation data\n",
    "        val_loss, val_accuracy = model.evaluate(validation_generator, verbose=0)\n",
    "        \n",
    "        # Predict on validation data\n",
    "        val_steps = np.math.ceil(validation_generator.samples / validation_generator.batch_size)\n",
    "        predictions = model.predict(validation_generator, steps=val_steps)\n",
    "        predicted_classes = np.argmax(predictions, axis=1)\n",
    "        \n",
    "        # Get true labels\n",
    "        true_classes = validation_generator.classes\n",
    "        \n",
    "        # Generate confusion matrix\n",
    "        cm = confusion_matrix(true_classes, predicted_classes)\n",
    "        \n",
    "        # Generate classification report\n",
    "        class_report = classification_report(true_classes, predicted_classes, target_names=validation_generator.class_indices.keys(), output_dict=True)\n",
    "        \n",
    "        results[model] = {\n",
    "            'loss': val_loss,\n",
    "            'accuracy': val_accuracy,\n",
    "            'confusion_matrix': cm,\n",
    "            'classification_report': class_report\n",
    "        }\n",
    "    return results\n"
   ]
  },
  {
   "cell_type": "code",
   "execution_count": 115,
   "metadata": {},
   "outputs": [
    {
     "ename": "ValueError",
     "evalue": "Must pass 2-d input. shape=()",
     "output_type": "error",
     "traceback": [
      "\u001b[1;31m---------------------------------------------------------------------------\u001b[0m",
      "\u001b[1;31mValueError\u001b[0m                                Traceback (most recent call last)",
      "Cell \u001b[1;32mIn[115], line 10\u001b[0m\n\u001b[0;32m      7\u001b[0m     plt\u001b[38;5;241m.\u001b[39mshow()\n\u001b[0;32m      9\u001b[0m \u001b[38;5;28;01mfor\u001b[39;00m metrics \u001b[38;5;129;01min\u001b[39;00m histories:\n\u001b[1;32m---> 10\u001b[0m     \u001b[43mplot_confusion_matrix\u001b[49m\u001b[43m(\u001b[49m\u001b[43mmetrics\u001b[49m\u001b[43m,\u001b[49m\u001b[43m \u001b[49m\u001b[43mclass_names\u001b[49m\u001b[43m,\u001b[49m\u001b[43m \u001b[49m\u001b[43mmodel_name\u001b[49m\u001b[43m)\u001b[49m\n",
      "Cell \u001b[1;32mIn[115], line 3\u001b[0m, in \u001b[0;36mplot_confusion_matrix\u001b[1;34m(cm, class_names, model_name)\u001b[0m\n\u001b[0;32m      1\u001b[0m \u001b[38;5;28;01mdef\u001b[39;00m \u001b[38;5;21mplot_confusion_matrix\u001b[39m(cm, class_names, model_name):\n\u001b[0;32m      2\u001b[0m     plt\u001b[38;5;241m.\u001b[39mfigure(figsize\u001b[38;5;241m=\u001b[39m(\u001b[38;5;241m8\u001b[39m, \u001b[38;5;241m6\u001b[39m))\n\u001b[1;32m----> 3\u001b[0m     \u001b[43msns\u001b[49m\u001b[38;5;241;43m.\u001b[39;49m\u001b[43mheatmap\u001b[49m\u001b[43m(\u001b[49m\u001b[43mcm\u001b[49m\u001b[43m,\u001b[49m\u001b[43m \u001b[49m\u001b[43mannot\u001b[49m\u001b[38;5;241;43m=\u001b[39;49m\u001b[38;5;28;43;01mTrue\u001b[39;49;00m\u001b[43m,\u001b[49m\u001b[43m \u001b[49m\u001b[43mfmt\u001b[49m\u001b[38;5;241;43m=\u001b[39;49m\u001b[38;5;124;43m'\u001b[39;49m\u001b[38;5;124;43md\u001b[39;49m\u001b[38;5;124;43m'\u001b[39;49m\u001b[43m,\u001b[49m\u001b[43m \u001b[49m\u001b[43mcmap\u001b[49m\u001b[38;5;241;43m=\u001b[39;49m\u001b[38;5;124;43m'\u001b[39;49m\u001b[38;5;124;43mBlues\u001b[39;49m\u001b[38;5;124;43m'\u001b[39;49m\u001b[43m,\u001b[49m\u001b[43m \u001b[49m\u001b[43mxticklabels\u001b[49m\u001b[38;5;241;43m=\u001b[39;49m\u001b[43mclass_names\u001b[49m\u001b[43m,\u001b[49m\u001b[43m \u001b[49m\u001b[43myticklabels\u001b[49m\u001b[38;5;241;43m=\u001b[39;49m\u001b[43mclass_names\u001b[49m\u001b[43m)\u001b[49m\n\u001b[0;32m      4\u001b[0m     plt\u001b[38;5;241m.\u001b[39mxlabel(\u001b[38;5;124m'\u001b[39m\u001b[38;5;124mPredicted Label\u001b[39m\u001b[38;5;124m'\u001b[39m)\n\u001b[0;32m      5\u001b[0m     plt\u001b[38;5;241m.\u001b[39mylabel(\u001b[38;5;124m'\u001b[39m\u001b[38;5;124mTrue Label\u001b[39m\u001b[38;5;124m'\u001b[39m)\n",
      "File \u001b[1;32m~\\anaconda3\\envs\\gpu_env\\lib\\site-packages\\seaborn\\matrix.py:446\u001b[0m, in \u001b[0;36mheatmap\u001b[1;34m(data, vmin, vmax, cmap, center, robust, annot, fmt, annot_kws, linewidths, linecolor, cbar, cbar_kws, cbar_ax, square, xticklabels, yticklabels, mask, ax, **kwargs)\u001b[0m\n\u001b[0;32m    365\u001b[0m \u001b[38;5;250m\u001b[39m\u001b[38;5;124;03m\"\"\"Plot rectangular data as a color-encoded matrix.\u001b[39;00m\n\u001b[0;32m    366\u001b[0m \n\u001b[0;32m    367\u001b[0m \u001b[38;5;124;03mThis is an Axes-level function and will draw the heatmap into the\u001b[39;00m\n\u001b[1;32m   (...)\u001b[0m\n\u001b[0;32m    443\u001b[0m \n\u001b[0;32m    444\u001b[0m \u001b[38;5;124;03m\"\"\"\u001b[39;00m\n\u001b[0;32m    445\u001b[0m \u001b[38;5;66;03m# Initialize the plotter object\u001b[39;00m\n\u001b[1;32m--> 446\u001b[0m plotter \u001b[38;5;241m=\u001b[39m \u001b[43m_HeatMapper\u001b[49m\u001b[43m(\u001b[49m\u001b[43mdata\u001b[49m\u001b[43m,\u001b[49m\u001b[43m \u001b[49m\u001b[43mvmin\u001b[49m\u001b[43m,\u001b[49m\u001b[43m \u001b[49m\u001b[43mvmax\u001b[49m\u001b[43m,\u001b[49m\u001b[43m \u001b[49m\u001b[43mcmap\u001b[49m\u001b[43m,\u001b[49m\u001b[43m \u001b[49m\u001b[43mcenter\u001b[49m\u001b[43m,\u001b[49m\u001b[43m \u001b[49m\u001b[43mrobust\u001b[49m\u001b[43m,\u001b[49m\u001b[43m \u001b[49m\u001b[43mannot\u001b[49m\u001b[43m,\u001b[49m\u001b[43m \u001b[49m\u001b[43mfmt\u001b[49m\u001b[43m,\u001b[49m\n\u001b[0;32m    447\u001b[0m \u001b[43m                      \u001b[49m\u001b[43mannot_kws\u001b[49m\u001b[43m,\u001b[49m\u001b[43m \u001b[49m\u001b[43mcbar\u001b[49m\u001b[43m,\u001b[49m\u001b[43m \u001b[49m\u001b[43mcbar_kws\u001b[49m\u001b[43m,\u001b[49m\u001b[43m \u001b[49m\u001b[43mxticklabels\u001b[49m\u001b[43m,\u001b[49m\n\u001b[0;32m    448\u001b[0m \u001b[43m                      \u001b[49m\u001b[43myticklabels\u001b[49m\u001b[43m,\u001b[49m\u001b[43m \u001b[49m\u001b[43mmask\u001b[49m\u001b[43m)\u001b[49m\n\u001b[0;32m    450\u001b[0m \u001b[38;5;66;03m# Add the pcolormesh kwargs here\u001b[39;00m\n\u001b[0;32m    451\u001b[0m kwargs[\u001b[38;5;124m\"\u001b[39m\u001b[38;5;124mlinewidths\u001b[39m\u001b[38;5;124m\"\u001b[39m] \u001b[38;5;241m=\u001b[39m linewidths\n",
      "File \u001b[1;32m~\\anaconda3\\envs\\gpu_env\\lib\\site-packages\\seaborn\\matrix.py:110\u001b[0m, in \u001b[0;36m_HeatMapper.__init__\u001b[1;34m(self, data, vmin, vmax, cmap, center, robust, annot, fmt, annot_kws, cbar, cbar_kws, xticklabels, yticklabels, mask)\u001b[0m\n\u001b[0;32m    108\u001b[0m \u001b[38;5;28;01melse\u001b[39;00m:\n\u001b[0;32m    109\u001b[0m     plot_data \u001b[38;5;241m=\u001b[39m np\u001b[38;5;241m.\u001b[39masarray(data)\n\u001b[1;32m--> 110\u001b[0m     data \u001b[38;5;241m=\u001b[39m \u001b[43mpd\u001b[49m\u001b[38;5;241;43m.\u001b[39;49m\u001b[43mDataFrame\u001b[49m\u001b[43m(\u001b[49m\u001b[43mplot_data\u001b[49m\u001b[43m)\u001b[49m\n\u001b[0;32m    112\u001b[0m \u001b[38;5;66;03m# Validate the mask and convert to DataFrame\u001b[39;00m\n\u001b[0;32m    113\u001b[0m mask \u001b[38;5;241m=\u001b[39m _matrix_mask(data, mask)\n",
      "File \u001b[1;32m~\\anaconda3\\envs\\gpu_env\\lib\\site-packages\\pandas\\core\\frame.py:758\u001b[0m, in \u001b[0;36mDataFrame.__init__\u001b[1;34m(self, data, index, columns, dtype, copy)\u001b[0m\n\u001b[0;32m    747\u001b[0m         mgr \u001b[38;5;241m=\u001b[39m dict_to_mgr(\n\u001b[0;32m    748\u001b[0m             \u001b[38;5;66;03m# error: Item \"ndarray\" of \"Union[ndarray, Series, Index]\" has no\u001b[39;00m\n\u001b[0;32m    749\u001b[0m             \u001b[38;5;66;03m# attribute \"name\"\u001b[39;00m\n\u001b[1;32m   (...)\u001b[0m\n\u001b[0;32m    755\u001b[0m             copy\u001b[38;5;241m=\u001b[39m_copy,\n\u001b[0;32m    756\u001b[0m         )\n\u001b[0;32m    757\u001b[0m     \u001b[38;5;28;01melse\u001b[39;00m:\n\u001b[1;32m--> 758\u001b[0m         mgr \u001b[38;5;241m=\u001b[39m \u001b[43mndarray_to_mgr\u001b[49m\u001b[43m(\u001b[49m\n\u001b[0;32m    759\u001b[0m \u001b[43m            \u001b[49m\u001b[43mdata\u001b[49m\u001b[43m,\u001b[49m\n\u001b[0;32m    760\u001b[0m \u001b[43m            \u001b[49m\u001b[43mindex\u001b[49m\u001b[43m,\u001b[49m\n\u001b[0;32m    761\u001b[0m \u001b[43m            \u001b[49m\u001b[43mcolumns\u001b[49m\u001b[43m,\u001b[49m\n\u001b[0;32m    762\u001b[0m \u001b[43m            \u001b[49m\u001b[43mdtype\u001b[49m\u001b[38;5;241;43m=\u001b[39;49m\u001b[43mdtype\u001b[49m\u001b[43m,\u001b[49m\n\u001b[0;32m    763\u001b[0m \u001b[43m            \u001b[49m\u001b[43mcopy\u001b[49m\u001b[38;5;241;43m=\u001b[39;49m\u001b[43mcopy\u001b[49m\u001b[43m,\u001b[49m\n\u001b[0;32m    764\u001b[0m \u001b[43m            \u001b[49m\u001b[43mtyp\u001b[49m\u001b[38;5;241;43m=\u001b[39;49m\u001b[43mmanager\u001b[49m\u001b[43m,\u001b[49m\n\u001b[0;32m    765\u001b[0m \u001b[43m        \u001b[49m\u001b[43m)\u001b[49m\n\u001b[0;32m    767\u001b[0m \u001b[38;5;66;03m# For data is list-like, or Iterable (will consume into list)\u001b[39;00m\n\u001b[0;32m    768\u001b[0m \u001b[38;5;28;01melif\u001b[39;00m is_list_like(data):\n",
      "File \u001b[1;32m~\\anaconda3\\envs\\gpu_env\\lib\\site-packages\\pandas\\core\\internals\\construction.py:315\u001b[0m, in \u001b[0;36mndarray_to_mgr\u001b[1;34m(values, index, columns, dtype, copy, typ)\u001b[0m\n\u001b[0;32m    309\u001b[0m     _copy \u001b[38;5;241m=\u001b[39m (\n\u001b[0;32m    310\u001b[0m         copy_on_sanitize\n\u001b[0;32m    311\u001b[0m         \u001b[38;5;28;01mif\u001b[39;00m (dtype \u001b[38;5;129;01mis\u001b[39;00m \u001b[38;5;28;01mNone\u001b[39;00m \u001b[38;5;129;01mor\u001b[39;00m astype_is_view(values\u001b[38;5;241m.\u001b[39mdtype, dtype))\n\u001b[0;32m    312\u001b[0m         \u001b[38;5;28;01melse\u001b[39;00m \u001b[38;5;28;01mFalse\u001b[39;00m\n\u001b[0;32m    313\u001b[0m     )\n\u001b[0;32m    314\u001b[0m     values \u001b[38;5;241m=\u001b[39m np\u001b[38;5;241m.\u001b[39marray(values, copy\u001b[38;5;241m=\u001b[39m_copy)\n\u001b[1;32m--> 315\u001b[0m     values \u001b[38;5;241m=\u001b[39m \u001b[43m_ensure_2d\u001b[49m\u001b[43m(\u001b[49m\u001b[43mvalues\u001b[49m\u001b[43m)\u001b[49m\n\u001b[0;32m    317\u001b[0m \u001b[38;5;28;01melse\u001b[39;00m:\n\u001b[0;32m    318\u001b[0m     \u001b[38;5;66;03m# by definition an array here\u001b[39;00m\n\u001b[0;32m    319\u001b[0m     \u001b[38;5;66;03m# the dtypes will be coerced to a single dtype\u001b[39;00m\n\u001b[0;32m    320\u001b[0m     values \u001b[38;5;241m=\u001b[39m _prep_ndarraylike(values, copy\u001b[38;5;241m=\u001b[39mcopy_on_sanitize)\n",
      "File \u001b[1;32m~\\anaconda3\\envs\\gpu_env\\lib\\site-packages\\pandas\\core\\internals\\construction.py:570\u001b[0m, in \u001b[0;36m_ensure_2d\u001b[1;34m(values)\u001b[0m\n\u001b[0;32m    568\u001b[0m     values \u001b[38;5;241m=\u001b[39m values\u001b[38;5;241m.\u001b[39mreshape((values\u001b[38;5;241m.\u001b[39mshape[\u001b[38;5;241m0\u001b[39m], \u001b[38;5;241m1\u001b[39m))\n\u001b[0;32m    569\u001b[0m \u001b[38;5;28;01melif\u001b[39;00m values\u001b[38;5;241m.\u001b[39mndim \u001b[38;5;241m!=\u001b[39m \u001b[38;5;241m2\u001b[39m:\n\u001b[1;32m--> 570\u001b[0m     \u001b[38;5;28;01mraise\u001b[39;00m \u001b[38;5;167;01mValueError\u001b[39;00m(\u001b[38;5;124mf\u001b[39m\u001b[38;5;124m\"\u001b[39m\u001b[38;5;124mMust pass 2-d input. shape=\u001b[39m\u001b[38;5;132;01m{\u001b[39;00mvalues\u001b[38;5;241m.\u001b[39mshape\u001b[38;5;132;01m}\u001b[39;00m\u001b[38;5;124m\"\u001b[39m)\n\u001b[0;32m    571\u001b[0m \u001b[38;5;28;01mreturn\u001b[39;00m values\n",
      "\u001b[1;31mValueError\u001b[0m: Must pass 2-d input. shape=()"
     ]
    },
    {
     "data": {
      "text/plain": [
       "<Figure size 800x600 with 0 Axes>"
      ]
     },
     "metadata": {},
     "output_type": "display_data"
    }
   ],
   "source": [
    "def plot_confusion_matrix(cm, class_names, model_name):\n",
    "    plt.figure(figsize=(8, 6))\n",
    "    sns.heatmap(cm, annot=True, fmt='d', cmap='Blues', xticklabels=class_names, yticklabels=class_names)\n",
    "    plt.xlabel('Predicted Label')\n",
    "    plt.ylabel('True Label')\n",
    "    plt.title(f'Confusion Matrix ({model_name})')\n",
    "    plt.show()\n",
    "\n",
    "for metrics in histories:\n",
    "    plot_confusion_matrix(metrics, class_names, model_name)\n"
   ]
  },
  {
   "cell_type": "code",
   "execution_count": null,
   "metadata": {},
   "outputs": [],
   "source": []
  }
 ],
 "metadata": {
  "accelerator": "GPU",
  "colab": {
   "gpuType": "T4",
   "provenance": []
  },
  "kernelspec": {
   "display_name": "Python 3 (ipykernel)",
   "language": "python",
   "name": "python3"
  },
  "language_info": {
   "codemirror_mode": {
    "name": "ipython",
    "version": 3
   },
   "file_extension": ".py",
   "mimetype": "text/x-python",
   "name": "python",
   "nbconvert_exporter": "python",
   "pygments_lexer": "ipython3",
   "version": "3.8.19"
  }
 },
 "nbformat": 4,
 "nbformat_minor": 4
}
